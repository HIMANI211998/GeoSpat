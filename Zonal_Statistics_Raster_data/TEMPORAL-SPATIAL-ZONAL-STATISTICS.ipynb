{
 "cells": [
  {
   "cell_type": "markdown",
   "metadata": {},
   "source": [
    "### SPATIAL DATA: A spatial data stores and allows queries of data defined by a geometric space.Many spatial databases can represent\n",
    "### simple coordinates,points,lines and polygons. Some can handle more complex data like 3D objects,topological coverage and linear \n",
    "### linear networks.\n",
    "\n",
    "### TEMPORAL DATA: A temporal database stores data relating to time whether past,present or future.\n",
    "\n",
    "### SPATIO-TEMPORAL-DATA : Spatio-Temporal data analysis is used in data analysis when data is collected over both space and time.\n",
    "### It describes location in certain location and time.\n",
    "### For example: Shipping movements across geographic area over time."
   ]
  },
  {
   "cell_type": "markdown",
   "metadata": {},
   "source": [
    "### WE ARE USING MULTIPLE RASTERS (FROM ALL DATES IN APRIL).THEN WE WILL COMPARE AVERAGE RAINFALL ON EACH DAY OF APRIL IN TWO \n",
    "### PARTICULAR DISTRICTS AND VISUALIZE IT.\n",
    "\n",
    "### TWO DISTRICTS THAT WE ARE USING ARE PORTO AND FARO"
   ]
  },
  {
   "cell_type": "code",
   "execution_count": 4,
   "metadata": {},
   "outputs": [],
   "source": [
    "import geopandas as gpd\n",
    "import pandas as pd\n",
    "import matplotlib.pyplot as plt\n",
    "import rasterio \n",
    "import rasterstats\n",
    "import numpy as np\n"
   ]
  },
  {
   "cell_type": "code",
   "execution_count": 6,
   "metadata": {},
   "outputs": [],
   "source": [
    "import os"
   ]
  },
  {
   "cell_type": "code",
   "execution_count": 9,
   "metadata": {},
   "outputs": [
    {
     "data": {
      "text/plain": [
       "<AxesSubplot:>"
      ]
     },
     "execution_count": 9,
     "metadata": {},
     "output_type": "execute_result"
    },
    {
     "data": {
      "image/png": "[encoded data removed]",
      "text/plain": [
       "<Figure size 432x288 with 1 Axes>"
      ]
     },
     "metadata": {
      "needs_background": "light"
     },
     "output_type": "display_data"
    }
   ],
   "source": [
    "districts=gpd.read_file(r'C:\\Users\\Admin\\Desktop\\Python_Sem3\\Raster_Data\\districts.shp')\n",
    "districts.plot()"
   ]
  },
  {
   "cell_type": "code",
   "execution_count": 11,
   "metadata": {},
   "outputs": [
    {
     "data": {
      "text/html": [
       "<div>\n",
       "<style scoped>\n",
       "    .dataframe tbody tr th:only-of-type {\n",
       "        vertical-align: middle;\n",
       "    }\n",
       "\n",
       "    .dataframe tbody tr th {\n",
       "        vertical-align: top;\n",
       "    }\n",
       "\n",
       "    .dataframe thead th {\n",
       "        text-align: right;\n",
       "    }\n",
       "</style>\n",
       "<table border=\"1\" class=\"dataframe\">\n",
       "  <thead>\n",
       "    <tr style=\"text-align: right;\">\n",
       "      <th></th>\n",
       "      <th>NAME_1</th>\n",
       "      <th>geometry</th>\n",
       "    </tr>\n",
       "  </thead>\n",
       "  <tbody>\n",
       "    <tr>\n",
       "      <th>0</th>\n",
       "      <td>Évora</td>\n",
       "      <td>POLYGON ((-8.14205 39.01529, -8.14165 39.01466...</td>\n",
       "    </tr>\n",
       "    <tr>\n",
       "      <th>1</th>\n",
       "      <td>Aveiro</td>\n",
       "      <td>MULTIPOLYGON (((-8.68208 40.69458, -8.68208 40...</td>\n",
       "    </tr>\n",
       "    <tr>\n",
       "      <th>2</th>\n",
       "      <td>Beja</td>\n",
       "      <td>MULTIPOLYGON (((-8.79264 37.71875, -8.79264 37...</td>\n",
       "    </tr>\n",
       "    <tr>\n",
       "      <th>3</th>\n",
       "      <td>Braga</td>\n",
       "      <td>POLYGON ((-8.04962 41.81636, -8.04908 41.81543...</td>\n",
       "    </tr>\n",
       "    <tr>\n",
       "      <th>4</th>\n",
       "      <td>Bragança</td>\n",
       "      <td>POLYGON ((-6.79995 41.98915, -6.79787 41.98859...</td>\n",
       "    </tr>\n",
       "    <tr>\n",
       "      <th>5</th>\n",
       "      <td>Castelo Branco</td>\n",
       "      <td>POLYGON ((-7.29277 40.41613, -7.29026 40.41438...</td>\n",
       "    </tr>\n",
       "    <tr>\n",
       "      <th>6</th>\n",
       "      <td>Coimbra</td>\n",
       "      <td>POLYGON ((-8.71904 40.47155, -8.71902 40.47153...</td>\n",
       "    </tr>\n",
       "    <tr>\n",
       "      <th>7</th>\n",
       "      <td>Faro</td>\n",
       "      <td>MULTIPOLYGON (((-7.88042 36.97347, -7.88042 36...</td>\n",
       "    </tr>\n",
       "    <tr>\n",
       "      <th>8</th>\n",
       "      <td>Guarda</td>\n",
       "      <td>MULTIPOLYGON (((-7.40951 40.92181, -7.40192 40...</td>\n",
       "    </tr>\n",
       "    <tr>\n",
       "      <th>9</th>\n",
       "      <td>Leiria</td>\n",
       "      <td>MULTIPOLYGON (((-9.50597 39.42181, -9.50597 39...</td>\n",
       "    </tr>\n",
       "    <tr>\n",
       "      <th>10</th>\n",
       "      <td>Lisboa</td>\n",
       "      <td>MULTIPOLYGON (((-9.29903 38.66180, -9.29903 38...</td>\n",
       "    </tr>\n",
       "    <tr>\n",
       "      <th>11</th>\n",
       "      <td>Portalegre</td>\n",
       "      <td>POLYGON ((-7.53721 39.66144, -7.53635 39.66139...</td>\n",
       "    </tr>\n",
       "    <tr>\n",
       "      <th>12</th>\n",
       "      <td>Porto</td>\n",
       "      <td>MULTIPOLYGON (((-8.68627 41.16045, -8.68627 41...</td>\n",
       "    </tr>\n",
       "    <tr>\n",
       "      <th>13</th>\n",
       "      <td>Santarém</td>\n",
       "      <td>MULTIPOLYGON (((-8.93986 38.78458, -8.93986 38...</td>\n",
       "    </tr>\n",
       "    <tr>\n",
       "      <th>14</th>\n",
       "      <td>Setúbal</td>\n",
       "      <td>MULTIPOLYGON (((-8.79674 37.83422, -8.79674 37...</td>\n",
       "    </tr>\n",
       "    <tr>\n",
       "      <th>15</th>\n",
       "      <td>Viana do Castelo</td>\n",
       "      <td>POLYGON ((-8.19120 42.14263, -8.19096 42.14261...</td>\n",
       "    </tr>\n",
       "    <tr>\n",
       "      <th>16</th>\n",
       "      <td>Vila Real</td>\n",
       "      <td>POLYGON ((-7.90587 41.92701, -7.90306 41.92643...</td>\n",
       "    </tr>\n",
       "    <tr>\n",
       "      <th>17</th>\n",
       "      <td>Viseu</td>\n",
       "      <td>POLYGON ((-7.39853 41.19854, -7.39594 41.19791...</td>\n",
       "    </tr>\n",
       "  </tbody>\n",
       "</table>\n",
       "</div>"
      ],
      "text/plain": [
       "              NAME_1                                           geometry\n",
       "0              Évora  POLYGON ((-8.14205 39.01529, -8.14165 39.01466...\n",
       "1             Aveiro  MULTIPOLYGON (((-8.68208 40.69458, -8.68208 40...\n",
       "2               Beja  MULTIPOLYGON (((-8.79264 37.71875, -8.79264 37...\n",
       "3              Braga  POLYGON ((-8.04962 41.81636, -8.04908 41.81543...\n",
       "4           Bragança  POLYGON ((-6.79995 41.98915, -6.79787 41.98859...\n",
       "5     Castelo Branco  POLYGON ((-7.29277 40.41613, -7.29026 40.41438...\n",
       "6            Coimbra  POLYGON ((-8.71904 40.47155, -8.71902 40.47153...\n",
       "7               Faro  MULTIPOLYGON (((-7.88042 36.97347, -7.88042 36...\n",
       "8             Guarda  MULTIPOLYGON (((-7.40951 40.92181, -7.40192 40...\n",
       "9             Leiria  MULTIPOLYGON (((-9.50597 39.42181, -9.50597 39...\n",
       "10            Lisboa  MULTIPOLYGON (((-9.29903 38.66180, -9.29903 38...\n",
       "11        Portalegre  POLYGON ((-7.53721 39.66144, -7.53635 39.66139...\n",
       "12             Porto  MULTIPOLYGON (((-8.68627 41.16045, -8.68627 41...\n",
       "13          Santarém  MULTIPOLYGON (((-8.93986 38.78458, -8.93986 38...\n",
       "14           Setúbal  MULTIPOLYGON (((-8.79674 37.83422, -8.79674 37...\n",
       "15  Viana do Castelo  POLYGON ((-8.19120 42.14263, -8.19096 42.14261...\n",
       "16         Vila Real  POLYGON ((-7.90587 41.92701, -7.90306 41.92643...\n",
       "17             Viseu  POLYGON ((-7.39853 41.19854, -7.39594 41.19791..."
      ]
     },
     "execution_count": 11,
     "metadata": {},
     "output_type": "execute_result"
    }
   ],
   "source": [
    "districts"
   ]
  },
  {
   "cell_type": "markdown",
   "metadata": {},
   "source": [
    "### But I want 2 districts in my analysis so I will extract 2"
   ]
  },
  {
   "cell_type": "code",
   "execution_count": 14,
   "metadata": {},
   "outputs": [
    {
     "data": {
      "text/plain": [
       "pandas.core.series.Series"
      ]
     },
     "execution_count": 14,
     "metadata": {},
     "output_type": "execute_result"
    }
   ],
   "source": [
    "## Porto\n",
    "districts.loc[12]\n",
    "type(districts.loc[12])"
   ]
  },
  {
   "cell_type": "markdown",
   "metadata": {},
   "source": [
    "### From the above you can see that it is a pandas series. I want to convert it into data frame"
   ]
  },
  {
   "cell_type": "code",
   "execution_count": 16,
   "metadata": {},
   "outputs": [
    {
     "data": {
      "text/html": [
       "<div>\n",
       "<style scoped>\n",
       "    .dataframe tbody tr th:only-of-type {\n",
       "        vertical-align: middle;\n",
       "    }\n",
       "\n",
       "    .dataframe tbody tr th {\n",
       "        vertical-align: top;\n",
       "    }\n",
       "\n",
       "    .dataframe thead th {\n",
       "        text-align: right;\n",
       "    }\n",
       "</style>\n",
       "<table border=\"1\" class=\"dataframe\">\n",
       "  <thead>\n",
       "    <tr style=\"text-align: right;\">\n",
       "      <th></th>\n",
       "      <th>12</th>\n",
       "    </tr>\n",
       "  </thead>\n",
       "  <tbody>\n",
       "    <tr>\n",
       "      <th>NAME_1</th>\n",
       "      <td>Porto</td>\n",
       "    </tr>\n",
       "    <tr>\n",
       "      <th>geometry</th>\n",
       "      <td>(POLYGON ((-8.68626880645752 41.16044998168951...</td>\n",
       "    </tr>\n",
       "  </tbody>\n",
       "</table>\n",
       "</div>"
      ],
      "text/plain": [
       "                                                         12\n",
       "NAME_1                                                Porto\n",
       "geometry  (POLYGON ((-8.68626880645752 41.16044998168951..."
      ]
     },
     "execution_count": 16,
     "metadata": {},
     "output_type": "execute_result"
    }
   ],
   "source": [
    "porto_df=pd.DataFrame(districts.loc[12])\n",
    "porto_df"
   ]
  },
  {
   "cell_type": "markdown",
   "metadata": {},
   "source": [
    "### But In actual I want it to be a geopanda data frame so that I can actually plot and vvisualize"
   ]
  },
  {
   "cell_type": "code",
   "execution_count": 20,
   "metadata": {},
   "outputs": [
    {
     "data": {
      "text/plain": [
       "<AxesSubplot:>"
      ]
     },
     "execution_count": 20,
     "metadata": {},
     "output_type": "execute_result"
    },
    {
     "data": {
      "image/png": "[encoded data removed]",
      "text/plain": [
       "<Figure size 432x288 with 1 Axes>"
      ]
     },
     "metadata": {
      "needs_background": "light"
     },
     "output_type": "display_data"
    }
   ],
   "source": [
    "porto_df=pd.DataFrame(districts.loc[12]).transpose()\n",
    "porto_polygon=gpd.GeoDataFrame(porto_df,geometry='geometry')\n",
    "porto_polygon.plot()"
   ]
  },
  {
   "cell_type": "code",
   "execution_count": 23,
   "metadata": {},
   "outputs": [
    {
     "data": {
      "text/plain": [
       "geopandas.geodataframe.GeoDataFrame"
      ]
     },
     "execution_count": 23,
     "metadata": {},
     "output_type": "execute_result"
    }
   ],
   "source": [
    "type(porto_polygon)"
   ]
  },
  {
   "cell_type": "markdown",
   "metadata": {},
   "source": [
    "### Another district that I want is FARO .I will do the same thing for extracting and plotting it"
   ]
  },
  {
   "cell_type": "code",
   "execution_count": 26,
   "metadata": {},
   "outputs": [
    {
     "data": {
      "text/plain": [
       "<AxesSubplot:>"
      ]
     },
     "execution_count": 26,
     "metadata": {},
     "output_type": "execute_result"
    },
    {
     "data": {
      "image/png": "[encoded data removed]",
      "text/plain": [
       "<Figure size 432x288 with 1 Axes>"
      ]
     },
     "metadata": {
      "needs_background": "light"
     },
     "output_type": "display_data"
    }
   ],
   "source": [
    "## FARO\n",
    "districts.loc[7]\n",
    "type(districts.loc[7])\n",
    "faro_df=pd.DataFrame(districts.loc[7])\n",
    "faro_df\n",
    "faro_df=pd.DataFrame(districts.loc[7]).transpose()\n",
    "faro_polygon=gpd.GeoDataFrame(faro_df,geometry='geometry')\n",
    "faro_polygon.plot()"
   ]
  },
  {
   "cell_type": "markdown",
   "metadata": {},
   "source": [
    "### But we also need to give coordinate reference system to these polygons same as in districts shp"
   ]
  },
  {
   "cell_type": "code",
   "execution_count": 30,
   "metadata": {},
   "outputs": [],
   "source": [
    "porto_polygon.crs=districts.crs\n",
    "faro_polygon.crs=districts.crs"
   ]
  },
  {
   "cell_type": "code",
   "execution_count": 32,
   "metadata": {},
   "outputs": [
    {
     "data": {
      "text/plain": [
       "<Geographic 2D CRS: EPSG:4326>\n",
       "Name: WGS 84\n",
       "Axis Info [ellipsoidal]:\n",
       "- Lat[north]: Geodetic latitude (degree)\n",
       "- Lon[east]: Geodetic longitude (degree)\n",
       "Area of Use:\n",
       "- name: World\n",
       "- bounds: (-180.0, -90.0, 180.0, 90.0)\n",
       "Datum: World Geodetic System 1984\n",
       "- Ellipsoid: WGS 84\n",
       "- Prime Meridian: Greenwich"
      ]
     },
     "execution_count": 32,
     "metadata": {},
     "output_type": "execute_result"
    }
   ],
   "source": [
    "porto_polygon.crs"
   ]
  },
  {
   "cell_type": "markdown",
   "metadata": {},
   "source": [
    "### Create an empty Pandas dataframe for average rainfall in faro and porto relative to dates(time)"
   ]
  },
  {
   "cell_type": "code",
   "execution_count": 42,
   "metadata": {},
   "outputs": [],
   "source": [
    "data=pd.DataFrame('',columns=['Dates','Average_rainfall_porto','Average_rainfall_faro'],index=np.arange(1,31))\n",
    "## I did np.arrange(1,31) because I have 30 rainfall rasters ie 30 days "
   ]
  },
  {
   "cell_type": "markdown",
   "metadata": {},
   "source": [
    "### Reading the information from rainfall rasters\n",
    "### Oviously since I want to read the info of each and every raster, so I will run a for loop \n",
    "### store the info of files with extension .tif because only then it is a raster"
   ]
  },
  {
   "cell_type": "code",
   "execution_count": 45,
   "metadata": {},
   "outputs": [
    {
     "name": "stderr",
     "output_type": "stream",
     "text": [
      "C:\\Users\\Admin\\anaconda3\\envs\\geo\\lib\\site-packages\\rasterstats\\io.py:301: UserWarning: Setting nodata to -999; specify nodata explicitly\n",
      "  warnings.warn(\"Setting nodata to -999; specify nodata explicitly\")\n"
     ]
    }
   ],
   "source": [
    "i=1\n",
    "for rast in os.listdir(r'C:\\Users\\Admin\\Desktop\\Python_Sem3\\Raster_Data'):\n",
    "    if(rast[-4:]=='.tif'):\n",
    "        rf=rasterio.open(r'C:\\Users\\Admin\\Desktop\\Python_Sem3\\Raster_Data'+'\\\\'+rast)\n",
    "        rainfall_array=rf.read(1)\n",
    "        affine=rf.transform\n",
    "        \n",
    "        #PORTO\n",
    "        avg_rf_porto=rasterstats.zonal_stats(porto_polygon,rainfall_array,affine=affine,stats=['mean'],geojason_out=True)\n",
    "        avg_rf_porto=avg_rf_porto[0]['mean']\n",
    "        \n",
    "        #FARO\n",
    "        avg_rf_faro=rasterstats.zonal_stats(faro_polygon,rainfall_array,affine=affine,stats=['mean'],geojason_out=True)\n",
    "        avg_rf_faro=avg_rf_faro[0]['mean']\n",
    "        \n",
    "        ## Filling the date avg rainfall in porto and faro in empty dataframe that we reated\n",
    "        data.loc[i]['Dates']=rast[:-4] #because we dont need tif extension\n",
    "        data.loc[i]['Average_rainfall_porto']=avg_rf_porto\n",
    "        data.loc[i]['Average_rainfall_faro']=avg_rf_faro\n",
    "        i=i+1\n",
    "        "
   ]
  },
  {
   "cell_type": "code",
   "execution_count": 47,
   "metadata": {},
   "outputs": [
    {
     "data": {
      "text/html": [
       "<div>\n",
       "<style scoped>\n",
       "    .dataframe tbody tr th:only-of-type {\n",
       "        vertical-align: middle;\n",
       "    }\n",
       "\n",
       "    .dataframe tbody tr th {\n",
       "        vertical-align: top;\n",
       "    }\n",
       "\n",
       "    .dataframe thead th {\n",
       "        text-align: right;\n",
       "    }\n",
       "</style>\n",
       "<table border=\"1\" class=\"dataframe\">\n",
       "  <thead>\n",
       "    <tr style=\"text-align: right;\">\n",
       "      <th></th>\n",
       "      <th>Dates</th>\n",
       "      <th>Average_rainfall_porto</th>\n",
       "      <th>Average_rainfall_faro</th>\n",
       "    </tr>\n",
       "  </thead>\n",
       "  <tbody>\n",
       "    <tr>\n",
       "      <th>1</th>\n",
       "      <td>2020-4-1</td>\n",
       "      <td>0</td>\n",
       "      <td>2.24693</td>\n",
       "    </tr>\n",
       "    <tr>\n",
       "      <th>2</th>\n",
       "      <td>2020-4-10</td>\n",
       "      <td>0</td>\n",
       "      <td>0</td>\n",
       "    </tr>\n",
       "    <tr>\n",
       "      <th>3</th>\n",
       "      <td>2020-4-11</td>\n",
       "      <td>0</td>\n",
       "      <td>0</td>\n",
       "    </tr>\n",
       "    <tr>\n",
       "      <th>4</th>\n",
       "      <td>2020-4-12</td>\n",
       "      <td>0</td>\n",
       "      <td>0</td>\n",
       "    </tr>\n",
       "    <tr>\n",
       "      <th>5</th>\n",
       "      <td>2020-4-13</td>\n",
       "      <td>0</td>\n",
       "      <td>0</td>\n",
       "    </tr>\n",
       "    <tr>\n",
       "      <th>6</th>\n",
       "      <td>2020-4-14</td>\n",
       "      <td>10.7382</td>\n",
       "      <td>12.0749</td>\n",
       "    </tr>\n",
       "    <tr>\n",
       "      <th>7</th>\n",
       "      <td>2020-4-15</td>\n",
       "      <td>0</td>\n",
       "      <td>2.09738</td>\n",
       "    </tr>\n",
       "    <tr>\n",
       "      <th>8</th>\n",
       "      <td>2020-4-16</td>\n",
       "      <td>51.8286</td>\n",
       "      <td>1.08763</td>\n",
       "    </tr>\n",
       "    <tr>\n",
       "      <th>9</th>\n",
       "      <td>2020-4-17</td>\n",
       "      <td>0</td>\n",
       "      <td>0</td>\n",
       "    </tr>\n",
       "    <tr>\n",
       "      <th>10</th>\n",
       "      <td>2020-4-18</td>\n",
       "      <td>0</td>\n",
       "      <td>0</td>\n",
       "    </tr>\n",
       "    <tr>\n",
       "      <th>11</th>\n",
       "      <td>2020-4-19</td>\n",
       "      <td>0</td>\n",
       "      <td>0</td>\n",
       "    </tr>\n",
       "    <tr>\n",
       "      <th>12</th>\n",
       "      <td>2020-4-2</td>\n",
       "      <td>0</td>\n",
       "      <td>0</td>\n",
       "    </tr>\n",
       "    <tr>\n",
       "      <th>13</th>\n",
       "      <td>2020-4-20</td>\n",
       "      <td>0</td>\n",
       "      <td>2.56238</td>\n",
       "    </tr>\n",
       "    <tr>\n",
       "      <th>14</th>\n",
       "      <td>2020-4-21</td>\n",
       "      <td>0</td>\n",
       "      <td>6.22192</td>\n",
       "    </tr>\n",
       "    <tr>\n",
       "      <th>15</th>\n",
       "      <td>2020-4-22</td>\n",
       "      <td>0</td>\n",
       "      <td>0</td>\n",
       "    </tr>\n",
       "    <tr>\n",
       "      <th>16</th>\n",
       "      <td>2020-4-23</td>\n",
       "      <td>0.120641</td>\n",
       "      <td>6.31374</td>\n",
       "    </tr>\n",
       "    <tr>\n",
       "      <th>17</th>\n",
       "      <td>2020-4-24</td>\n",
       "      <td>15.3125</td>\n",
       "      <td>9.04548</td>\n",
       "    </tr>\n",
       "    <tr>\n",
       "      <th>18</th>\n",
       "      <td>2020-4-25</td>\n",
       "      <td>0</td>\n",
       "      <td>1.11642</td>\n",
       "    </tr>\n",
       "    <tr>\n",
       "      <th>19</th>\n",
       "      <td>2020-4-26</td>\n",
       "      <td>0</td>\n",
       "      <td>0.0352185</td>\n",
       "    </tr>\n",
       "    <tr>\n",
       "      <th>20</th>\n",
       "      <td>2020-4-27</td>\n",
       "      <td>0</td>\n",
       "      <td>1.19804</td>\n",
       "    </tr>\n",
       "    <tr>\n",
       "      <th>21</th>\n",
       "      <td>2020-4-28</td>\n",
       "      <td>0</td>\n",
       "      <td>0</td>\n",
       "    </tr>\n",
       "    <tr>\n",
       "      <th>22</th>\n",
       "      <td>2020-4-29</td>\n",
       "      <td>0</td>\n",
       "      <td>0</td>\n",
       "    </tr>\n",
       "    <tr>\n",
       "      <th>23</th>\n",
       "      <td>2020-4-3</td>\n",
       "      <td>0</td>\n",
       "      <td>0</td>\n",
       "    </tr>\n",
       "    <tr>\n",
       "      <th>24</th>\n",
       "      <td>2020-4-30</td>\n",
       "      <td>0</td>\n",
       "      <td>0</td>\n",
       "    </tr>\n",
       "    <tr>\n",
       "      <th>25</th>\n",
       "      <td>2020-4-4</td>\n",
       "      <td>0.154639</td>\n",
       "      <td>0.0864356</td>\n",
       "    </tr>\n",
       "    <tr>\n",
       "      <th>26</th>\n",
       "      <td>2020-4-5</td>\n",
       "      <td>21.8206</td>\n",
       "      <td>3.3077</td>\n",
       "    </tr>\n",
       "    <tr>\n",
       "      <th>27</th>\n",
       "      <td>2020-4-6</td>\n",
       "      <td>62.1052</td>\n",
       "      <td>1.96161</td>\n",
       "    </tr>\n",
       "    <tr>\n",
       "      <th>28</th>\n",
       "      <td>2020-4-7</td>\n",
       "      <td>0</td>\n",
       "      <td>3.1475</td>\n",
       "    </tr>\n",
       "    <tr>\n",
       "      <th>29</th>\n",
       "      <td>2020-4-8</td>\n",
       "      <td>0.650733</td>\n",
       "      <td>0.0960381</td>\n",
       "    </tr>\n",
       "    <tr>\n",
       "      <th>30</th>\n",
       "      <td>2020-4-9</td>\n",
       "      <td>2.5361</td>\n",
       "      <td>2.59778</td>\n",
       "    </tr>\n",
       "  </tbody>\n",
       "</table>\n",
       "</div>"
      ],
      "text/plain": [
       "        Dates Average_rainfall_porto Average_rainfall_faro\n",
       "1    2020-4-1                      0               2.24693\n",
       "2   2020-4-10                      0                     0\n",
       "3   2020-4-11                      0                     0\n",
       "4   2020-4-12                      0                     0\n",
       "5   2020-4-13                      0                     0\n",
       "6   2020-4-14                10.7382               12.0749\n",
       "7   2020-4-15                      0               2.09738\n",
       "8   2020-4-16                51.8286               1.08763\n",
       "9   2020-4-17                      0                     0\n",
       "10  2020-4-18                      0                     0\n",
       "11  2020-4-19                      0                     0\n",
       "12   2020-4-2                      0                     0\n",
       "13  2020-4-20                      0               2.56238\n",
       "14  2020-4-21                      0               6.22192\n",
       "15  2020-4-22                      0                     0\n",
       "16  2020-4-23               0.120641               6.31374\n",
       "17  2020-4-24                15.3125               9.04548\n",
       "18  2020-4-25                      0               1.11642\n",
       "19  2020-4-26                      0             0.0352185\n",
       "20  2020-4-27                      0               1.19804\n",
       "21  2020-4-28                      0                     0\n",
       "22  2020-4-29                      0                     0\n",
       "23   2020-4-3                      0                     0\n",
       "24  2020-4-30                      0                     0\n",
       "25   2020-4-4               0.154639             0.0864356\n",
       "26   2020-4-5                21.8206                3.3077\n",
       "27   2020-4-6                62.1052               1.96161\n",
       "28   2020-4-7                      0                3.1475\n",
       "29   2020-4-8               0.650733             0.0960381\n",
       "30   2020-4-9                 2.5361               2.59778"
      ]
     },
     "execution_count": 47,
     "metadata": {},
     "output_type": "execute_result"
    }
   ],
   "source": [
    "data"
   ]
  },
  {
   "cell_type": "markdown",
   "metadata": {},
   "source": [
    "### Since the dates are not in increasing order we will first sort then plot\n",
    "### We can simply convert it into date time format"
   ]
  },
  {
   "cell_type": "code",
   "execution_count": 51,
   "metadata": {},
   "outputs": [
    {
     "data": {
      "text/html": [
       "<div>\n",
       "<style scoped>\n",
       "    .dataframe tbody tr th:only-of-type {\n",
       "        vertical-align: middle;\n",
       "    }\n",
       "\n",
       "    .dataframe tbody tr th {\n",
       "        vertical-align: top;\n",
       "    }\n",
       "\n",
       "    .dataframe thead th {\n",
       "        text-align: right;\n",
       "    }\n",
       "</style>\n",
       "<table border=\"1\" class=\"dataframe\">\n",
       "  <thead>\n",
       "    <tr style=\"text-align: right;\">\n",
       "      <th></th>\n",
       "      <th>Dates</th>\n",
       "      <th>Average_rainfall_porto</th>\n",
       "      <th>Average_rainfall_faro</th>\n",
       "    </tr>\n",
       "  </thead>\n",
       "  <tbody>\n",
       "    <tr>\n",
       "      <th>1</th>\n",
       "      <td>2020-04-01</td>\n",
       "      <td>0</td>\n",
       "      <td>2.24693</td>\n",
       "    </tr>\n",
       "    <tr>\n",
       "      <th>2</th>\n",
       "      <td>2020-04-10</td>\n",
       "      <td>0</td>\n",
       "      <td>0</td>\n",
       "    </tr>\n",
       "    <tr>\n",
       "      <th>3</th>\n",
       "      <td>2020-04-11</td>\n",
       "      <td>0</td>\n",
       "      <td>0</td>\n",
       "    </tr>\n",
       "    <tr>\n",
       "      <th>4</th>\n",
       "      <td>2020-04-12</td>\n",
       "      <td>0</td>\n",
       "      <td>0</td>\n",
       "    </tr>\n",
       "    <tr>\n",
       "      <th>5</th>\n",
       "      <td>2020-04-13</td>\n",
       "      <td>0</td>\n",
       "      <td>0</td>\n",
       "    </tr>\n",
       "    <tr>\n",
       "      <th>6</th>\n",
       "      <td>2020-04-14</td>\n",
       "      <td>10.7382</td>\n",
       "      <td>12.0749</td>\n",
       "    </tr>\n",
       "    <tr>\n",
       "      <th>7</th>\n",
       "      <td>2020-04-15</td>\n",
       "      <td>0</td>\n",
       "      <td>2.09738</td>\n",
       "    </tr>\n",
       "    <tr>\n",
       "      <th>8</th>\n",
       "      <td>2020-04-16</td>\n",
       "      <td>51.8286</td>\n",
       "      <td>1.08763</td>\n",
       "    </tr>\n",
       "    <tr>\n",
       "      <th>9</th>\n",
       "      <td>2020-04-17</td>\n",
       "      <td>0</td>\n",
       "      <td>0</td>\n",
       "    </tr>\n",
       "    <tr>\n",
       "      <th>10</th>\n",
       "      <td>2020-04-18</td>\n",
       "      <td>0</td>\n",
       "      <td>0</td>\n",
       "    </tr>\n",
       "    <tr>\n",
       "      <th>11</th>\n",
       "      <td>2020-04-19</td>\n",
       "      <td>0</td>\n",
       "      <td>0</td>\n",
       "    </tr>\n",
       "    <tr>\n",
       "      <th>12</th>\n",
       "      <td>2020-04-02</td>\n",
       "      <td>0</td>\n",
       "      <td>0</td>\n",
       "    </tr>\n",
       "    <tr>\n",
       "      <th>13</th>\n",
       "      <td>2020-04-20</td>\n",
       "      <td>0</td>\n",
       "      <td>2.56238</td>\n",
       "    </tr>\n",
       "    <tr>\n",
       "      <th>14</th>\n",
       "      <td>2020-04-21</td>\n",
       "      <td>0</td>\n",
       "      <td>6.22192</td>\n",
       "    </tr>\n",
       "    <tr>\n",
       "      <th>15</th>\n",
       "      <td>2020-04-22</td>\n",
       "      <td>0</td>\n",
       "      <td>0</td>\n",
       "    </tr>\n",
       "    <tr>\n",
       "      <th>16</th>\n",
       "      <td>2020-04-23</td>\n",
       "      <td>0.120641</td>\n",
       "      <td>6.31374</td>\n",
       "    </tr>\n",
       "    <tr>\n",
       "      <th>17</th>\n",
       "      <td>2020-04-24</td>\n",
       "      <td>15.3125</td>\n",
       "      <td>9.04548</td>\n",
       "    </tr>\n",
       "    <tr>\n",
       "      <th>18</th>\n",
       "      <td>2020-04-25</td>\n",
       "      <td>0</td>\n",
       "      <td>1.11642</td>\n",
       "    </tr>\n",
       "    <tr>\n",
       "      <th>19</th>\n",
       "      <td>2020-04-26</td>\n",
       "      <td>0</td>\n",
       "      <td>0.0352185</td>\n",
       "    </tr>\n",
       "    <tr>\n",
       "      <th>20</th>\n",
       "      <td>2020-04-27</td>\n",
       "      <td>0</td>\n",
       "      <td>1.19804</td>\n",
       "    </tr>\n",
       "    <tr>\n",
       "      <th>21</th>\n",
       "      <td>2020-04-28</td>\n",
       "      <td>0</td>\n",
       "      <td>0</td>\n",
       "    </tr>\n",
       "    <tr>\n",
       "      <th>22</th>\n",
       "      <td>2020-04-29</td>\n",
       "      <td>0</td>\n",
       "      <td>0</td>\n",
       "    </tr>\n",
       "    <tr>\n",
       "      <th>23</th>\n",
       "      <td>2020-04-03</td>\n",
       "      <td>0</td>\n",
       "      <td>0</td>\n",
       "    </tr>\n",
       "    <tr>\n",
       "      <th>24</th>\n",
       "      <td>2020-04-30</td>\n",
       "      <td>0</td>\n",
       "      <td>0</td>\n",
       "    </tr>\n",
       "    <tr>\n",
       "      <th>25</th>\n",
       "      <td>2020-04-04</td>\n",
       "      <td>0.154639</td>\n",
       "      <td>0.0864356</td>\n",
       "    </tr>\n",
       "    <tr>\n",
       "      <th>26</th>\n",
       "      <td>2020-04-05</td>\n",
       "      <td>21.8206</td>\n",
       "      <td>3.3077</td>\n",
       "    </tr>\n",
       "    <tr>\n",
       "      <th>27</th>\n",
       "      <td>2020-04-06</td>\n",
       "      <td>62.1052</td>\n",
       "      <td>1.96161</td>\n",
       "    </tr>\n",
       "    <tr>\n",
       "      <th>28</th>\n",
       "      <td>2020-04-07</td>\n",
       "      <td>0</td>\n",
       "      <td>3.1475</td>\n",
       "    </tr>\n",
       "    <tr>\n",
       "      <th>29</th>\n",
       "      <td>2020-04-08</td>\n",
       "      <td>0.650733</td>\n",
       "      <td>0.0960381</td>\n",
       "    </tr>\n",
       "    <tr>\n",
       "      <th>30</th>\n",
       "      <td>2020-04-09</td>\n",
       "      <td>2.5361</td>\n",
       "      <td>2.59778</td>\n",
       "    </tr>\n",
       "  </tbody>\n",
       "</table>\n",
       "</div>"
      ],
      "text/plain": [
       "        Dates Average_rainfall_porto Average_rainfall_faro\n",
       "1  2020-04-01                      0               2.24693\n",
       "2  2020-04-10                      0                     0\n",
       "3  2020-04-11                      0                     0\n",
       "4  2020-04-12                      0                     0\n",
       "5  2020-04-13                      0                     0\n",
       "6  2020-04-14                10.7382               12.0749\n",
       "7  2020-04-15                      0               2.09738\n",
       "8  2020-04-16                51.8286               1.08763\n",
       "9  2020-04-17                      0                     0\n",
       "10 2020-04-18                      0                     0\n",
       "11 2020-04-19                      0                     0\n",
       "12 2020-04-02                      0                     0\n",
       "13 2020-04-20                      0               2.56238\n",
       "14 2020-04-21                      0               6.22192\n",
       "15 2020-04-22                      0                     0\n",
       "16 2020-04-23               0.120641               6.31374\n",
       "17 2020-04-24                15.3125               9.04548\n",
       "18 2020-04-25                      0               1.11642\n",
       "19 2020-04-26                      0             0.0352185\n",
       "20 2020-04-27                      0               1.19804\n",
       "21 2020-04-28                      0                     0\n",
       "22 2020-04-29                      0                     0\n",
       "23 2020-04-03                      0                     0\n",
       "24 2020-04-30                      0                     0\n",
       "25 2020-04-04               0.154639             0.0864356\n",
       "26 2020-04-05                21.8206                3.3077\n",
       "27 2020-04-06                62.1052               1.96161\n",
       "28 2020-04-07                      0                3.1475\n",
       "29 2020-04-08               0.650733             0.0960381\n",
       "30 2020-04-09                 2.5361               2.59778"
      ]
     },
     "execution_count": 51,
     "metadata": {},
     "output_type": "execute_result"
    }
   ],
   "source": [
    "data['Dates']=pd.to_datetime(data['Dates'],infer_datetime_format=True)\n",
    "data"
   ]
  },
  {
   "cell_type": "code",
   "execution_count": 54,
   "metadata": {},
   "outputs": [
    {
     "data": {
      "text/html": [
       "<div>\n",
       "<style scoped>\n",
       "    .dataframe tbody tr th:only-of-type {\n",
       "        vertical-align: middle;\n",
       "    }\n",
       "\n",
       "    .dataframe tbody tr th {\n",
       "        vertical-align: top;\n",
       "    }\n",
       "\n",
       "    .dataframe thead th {\n",
       "        text-align: right;\n",
       "    }\n",
       "</style>\n",
       "<table border=\"1\" class=\"dataframe\">\n",
       "  <thead>\n",
       "    <tr style=\"text-align: right;\">\n",
       "      <th></th>\n",
       "      <th>Dates</th>\n",
       "      <th>Average_rainfall_porto</th>\n",
       "      <th>Average_rainfall_faro</th>\n",
       "    </tr>\n",
       "  </thead>\n",
       "  <tbody>\n",
       "    <tr>\n",
       "      <th>1</th>\n",
       "      <td>2020-04-01</td>\n",
       "      <td>0</td>\n",
       "      <td>2.24693</td>\n",
       "    </tr>\n",
       "    <tr>\n",
       "      <th>12</th>\n",
       "      <td>2020-04-02</td>\n",
       "      <td>0</td>\n",
       "      <td>0</td>\n",
       "    </tr>\n",
       "    <tr>\n",
       "      <th>23</th>\n",
       "      <td>2020-04-03</td>\n",
       "      <td>0</td>\n",
       "      <td>0</td>\n",
       "    </tr>\n",
       "    <tr>\n",
       "      <th>25</th>\n",
       "      <td>2020-04-04</td>\n",
       "      <td>0.154639</td>\n",
       "      <td>0.0864356</td>\n",
       "    </tr>\n",
       "    <tr>\n",
       "      <th>26</th>\n",
       "      <td>2020-04-05</td>\n",
       "      <td>21.8206</td>\n",
       "      <td>3.3077</td>\n",
       "    </tr>\n",
       "    <tr>\n",
       "      <th>27</th>\n",
       "      <td>2020-04-06</td>\n",
       "      <td>62.1052</td>\n",
       "      <td>1.96161</td>\n",
       "    </tr>\n",
       "    <tr>\n",
       "      <th>28</th>\n",
       "      <td>2020-04-07</td>\n",
       "      <td>0</td>\n",
       "      <td>3.1475</td>\n",
       "    </tr>\n",
       "    <tr>\n",
       "      <th>29</th>\n",
       "      <td>2020-04-08</td>\n",
       "      <td>0.650733</td>\n",
       "      <td>0.0960381</td>\n",
       "    </tr>\n",
       "    <tr>\n",
       "      <th>30</th>\n",
       "      <td>2020-04-09</td>\n",
       "      <td>2.5361</td>\n",
       "      <td>2.59778</td>\n",
       "    </tr>\n",
       "    <tr>\n",
       "      <th>2</th>\n",
       "      <td>2020-04-10</td>\n",
       "      <td>0</td>\n",
       "      <td>0</td>\n",
       "    </tr>\n",
       "    <tr>\n",
       "      <th>3</th>\n",
       "      <td>2020-04-11</td>\n",
       "      <td>0</td>\n",
       "      <td>0</td>\n",
       "    </tr>\n",
       "    <tr>\n",
       "      <th>4</th>\n",
       "      <td>2020-04-12</td>\n",
       "      <td>0</td>\n",
       "      <td>0</td>\n",
       "    </tr>\n",
       "    <tr>\n",
       "      <th>5</th>\n",
       "      <td>2020-04-13</td>\n",
       "      <td>0</td>\n",
       "      <td>0</td>\n",
       "    </tr>\n",
       "    <tr>\n",
       "      <th>6</th>\n",
       "      <td>2020-04-14</td>\n",
       "      <td>10.7382</td>\n",
       "      <td>12.0749</td>\n",
       "    </tr>\n",
       "    <tr>\n",
       "      <th>7</th>\n",
       "      <td>2020-04-15</td>\n",
       "      <td>0</td>\n",
       "      <td>2.09738</td>\n",
       "    </tr>\n",
       "    <tr>\n",
       "      <th>8</th>\n",
       "      <td>2020-04-16</td>\n",
       "      <td>51.8286</td>\n",
       "      <td>1.08763</td>\n",
       "    </tr>\n",
       "    <tr>\n",
       "      <th>9</th>\n",
       "      <td>2020-04-17</td>\n",
       "      <td>0</td>\n",
       "      <td>0</td>\n",
       "    </tr>\n",
       "    <tr>\n",
       "      <th>10</th>\n",
       "      <td>2020-04-18</td>\n",
       "      <td>0</td>\n",
       "      <td>0</td>\n",
       "    </tr>\n",
       "    <tr>\n",
       "      <th>11</th>\n",
       "      <td>2020-04-19</td>\n",
       "      <td>0</td>\n",
       "      <td>0</td>\n",
       "    </tr>\n",
       "    <tr>\n",
       "      <th>13</th>\n",
       "      <td>2020-04-20</td>\n",
       "      <td>0</td>\n",
       "      <td>2.56238</td>\n",
       "    </tr>\n",
       "    <tr>\n",
       "      <th>14</th>\n",
       "      <td>2020-04-21</td>\n",
       "      <td>0</td>\n",
       "      <td>6.22192</td>\n",
       "    </tr>\n",
       "    <tr>\n",
       "      <th>15</th>\n",
       "      <td>2020-04-22</td>\n",
       "      <td>0</td>\n",
       "      <td>0</td>\n",
       "    </tr>\n",
       "    <tr>\n",
       "      <th>16</th>\n",
       "      <td>2020-04-23</td>\n",
       "      <td>0.120641</td>\n",
       "      <td>6.31374</td>\n",
       "    </tr>\n",
       "    <tr>\n",
       "      <th>17</th>\n",
       "      <td>2020-04-24</td>\n",
       "      <td>15.3125</td>\n",
       "      <td>9.04548</td>\n",
       "    </tr>\n",
       "    <tr>\n",
       "      <th>18</th>\n",
       "      <td>2020-04-25</td>\n",
       "      <td>0</td>\n",
       "      <td>1.11642</td>\n",
       "    </tr>\n",
       "    <tr>\n",
       "      <th>19</th>\n",
       "      <td>2020-04-26</td>\n",
       "      <td>0</td>\n",
       "      <td>0.0352185</td>\n",
       "    </tr>\n",
       "    <tr>\n",
       "      <th>20</th>\n",
       "      <td>2020-04-27</td>\n",
       "      <td>0</td>\n",
       "      <td>1.19804</td>\n",
       "    </tr>\n",
       "    <tr>\n",
       "      <th>21</th>\n",
       "      <td>2020-04-28</td>\n",
       "      <td>0</td>\n",
       "      <td>0</td>\n",
       "    </tr>\n",
       "    <tr>\n",
       "      <th>22</th>\n",
       "      <td>2020-04-29</td>\n",
       "      <td>0</td>\n",
       "      <td>0</td>\n",
       "    </tr>\n",
       "    <tr>\n",
       "      <th>24</th>\n",
       "      <td>2020-04-30</td>\n",
       "      <td>0</td>\n",
       "      <td>0</td>\n",
       "    </tr>\n",
       "  </tbody>\n",
       "</table>\n",
       "</div>"
      ],
      "text/plain": [
       "        Dates Average_rainfall_porto Average_rainfall_faro\n",
       "1  2020-04-01                      0               2.24693\n",
       "12 2020-04-02                      0                     0\n",
       "23 2020-04-03                      0                     0\n",
       "25 2020-04-04               0.154639             0.0864356\n",
       "26 2020-04-05                21.8206                3.3077\n",
       "27 2020-04-06                62.1052               1.96161\n",
       "28 2020-04-07                      0                3.1475\n",
       "29 2020-04-08               0.650733             0.0960381\n",
       "30 2020-04-09                 2.5361               2.59778\n",
       "2  2020-04-10                      0                     0\n",
       "3  2020-04-11                      0                     0\n",
       "4  2020-04-12                      0                     0\n",
       "5  2020-04-13                      0                     0\n",
       "6  2020-04-14                10.7382               12.0749\n",
       "7  2020-04-15                      0               2.09738\n",
       "8  2020-04-16                51.8286               1.08763\n",
       "9  2020-04-17                      0                     0\n",
       "10 2020-04-18                      0                     0\n",
       "11 2020-04-19                      0                     0\n",
       "13 2020-04-20                      0               2.56238\n",
       "14 2020-04-21                      0               6.22192\n",
       "15 2020-04-22                      0                     0\n",
       "16 2020-04-23               0.120641               6.31374\n",
       "17 2020-04-24                15.3125               9.04548\n",
       "18 2020-04-25                      0               1.11642\n",
       "19 2020-04-26                      0             0.0352185\n",
       "20 2020-04-27                      0               1.19804\n",
       "21 2020-04-28                      0                     0\n",
       "22 2020-04-29                      0                     0\n",
       "24 2020-04-30                      0                     0"
      ]
     },
     "execution_count": 54,
     "metadata": {},
     "output_type": "execute_result"
    }
   ],
   "source": [
    "data=data.sort_values(by='Dates')\n",
    "data"
   ]
  },
  {
   "cell_type": "code",
   "execution_count": 85,
   "metadata": {},
   "outputs": [
    {
     "data": {
      "text/plain": [
       "DatetimeIndex(['2020-04-01', '2020-04-02', '2020-04-03', '2020-04-04',\n",
       "               '2020-04-05', '2020-04-06', '2020-04-07', '2020-04-08',\n",
       "               '2020-04-09', '2020-04-10', '2020-04-11', '2020-04-12',\n",
       "               '2020-04-13', '2020-04-14', '2020-04-15', '2020-04-16',\n",
       "               '2020-04-17', '2020-04-18', '2020-04-19', '2020-04-20',\n",
       "               '2020-04-21', '2020-04-22', '2020-04-23', '2020-04-24',\n",
       "               '2020-04-25', '2020-04-26', '2020-04-27', '2020-04-28',\n",
       "               '2020-04-29', '2020-04-30'],\n",
       "              dtype='datetime64[ns]', name='Dates', freq=None)"
      ]
     },
     "execution_count": 85,
     "metadata": {},
     "output_type": "execute_result"
    }
   ],
   "source": [
    "data.index"
   ]
  },
  {
   "cell_type": "code",
   "execution_count": 88,
   "metadata": {},
   "outputs": [
    {
     "data": {
      "text/plain": [
       "<AxesSubplot:xlabel='Dates'>"
      ]
     },
     "execution_count": 88,
     "metadata": {},
     "output_type": "execute_result"
    },
    {
     "data": {
      "image/png": "[encoded data removed]",
      "text/plain": [
       "<Figure size 432x288 with 1 Axes>"
      ]
     },
     "metadata": {
      "needs_background": "light"
     },
     "output_type": "display_data"
    }
   ],
   "source": [
    "data.Average_rainfall_porto.plot(kind='bar')"
   ]
  },
  {
   "cell_type": "code",
   "execution_count": 89,
   "metadata": {},
   "outputs": [
    {
     "data": {
      "text/plain": [
       "<AxesSubplot:xlabel='Dates'>"
      ]
     },
     "execution_count": 89,
     "metadata": {},
     "output_type": "execute_result"
    },
    {
     "data": {
      "image/png": "[encoded data removed]",
      "text/plain": [
       "<Figure size 432x288 with 1 Axes>"
      ]
     },
     "metadata": {
      "needs_background": "light"
     },
     "output_type": "display_data"
    }
   ],
   "source": [
    "data.Average_rainfall_faro.plot(kind='bar')"
   ]
  },
  {
   "cell_type": "code",
   "execution_count": null,
   "metadata": {},
   "outputs": [],
   "source": []
  }
 ],
 "metadata": {
  "kernelspec": {
   "display_name": "Python 3",
   "language": "python",
   "name": "python3"
  },
  "language_info": {
   "codemirror_mode": {
    "name": "ipython",
    "version": 3
   },
   "file_extension": ".py",
   "mimetype": "text/x-python",
   "name": "python",
   "nbconvert_exporter": "python",
   "pygments_lexer": "ipython3",
   "version": "3.9.1"
  }
 },
 "nbformat": 4,
 "nbformat_minor": 4
}
