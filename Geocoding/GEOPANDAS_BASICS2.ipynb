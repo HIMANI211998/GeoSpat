{
 "cells": [
  {
   "cell_type": "markdown",
   "metadata": {},
   "source": [
    "## GEOPANDAS"
   ]
  },
  {
   "cell_type": "code",
   "execution_count": 2,
   "metadata": {},
   "outputs": [],
   "source": [
    "import geopandas as gpd\n",
    "import matplotlib.pyplot as plt"
   ]
  },
  {
   "cell_type": "code",
   "execution_count": 3,
   "metadata": {},
   "outputs": [],
   "source": [
    "district=gpd.read_file(r'C:\\Users\\Admin\\Desktop\\Python_Sem3\\Shapes\\districts.shp')"
   ]
  },
  {
   "cell_type": "code",
   "execution_count": 4,
   "metadata": {},
   "outputs": [
    {
     "data": {
      "text/html": [
       "<div>\n",
       "<style scoped>\n",
       "    .dataframe tbody tr th:only-of-type {\n",
       "        vertical-align: middle;\n",
       "    }\n",
       "\n",
       "    .dataframe tbody tr th {\n",
       "        vertical-align: top;\n",
       "    }\n",
       "\n",
       "    .dataframe thead th {\n",
       "        text-align: right;\n",
       "    }\n",
       "</style>\n",
       "<table border=\"1\" class=\"dataframe\">\n",
       "  <thead>\n",
       "    <tr style=\"text-align: right;\">\n",
       "      <th></th>\n",
       "      <th>district</th>\n",
       "      <th>geometry</th>\n",
       "    </tr>\n",
       "  </thead>\n",
       "  <tbody>\n",
       "    <tr>\n",
       "      <th>0</th>\n",
       "      <td>Newry, Mourne and Down</td>\n",
       "      <td>POLYGON ((-5.82139 54.49408, -5.82128 54.49399...</td>\n",
       "    </tr>\n",
       "    <tr>\n",
       "      <th>1</th>\n",
       "      <td>Mid Ulster</td>\n",
       "      <td>POLYGON ((-6.53263 54.94913, -6.53253 54.94901...</td>\n",
       "    </tr>\n",
       "    <tr>\n",
       "      <th>2</th>\n",
       "      <td>Mid and East Antrim</td>\n",
       "      <td>POLYGON ((-5.96917 55.05284, -5.96909 55.05284...</td>\n",
       "    </tr>\n",
       "    <tr>\n",
       "      <th>3</th>\n",
       "      <td>Lisburn and Castlereagh</td>\n",
       "      <td>POLYGON ((-6.08760 54.62414, -6.08699 54.62394...</td>\n",
       "    </tr>\n",
       "    <tr>\n",
       "      <th>4</th>\n",
       "      <td>Armagh City, Banbridge and Craigavon</td>\n",
       "      <td>POLYGON ((-6.27820 54.54965, -6.27819 54.54960...</td>\n",
       "    </tr>\n",
       "    <tr>\n",
       "      <th>5</th>\n",
       "      <td>Antrim and Newtownabbey</td>\n",
       "      <td>POLYGON ((-6.16426 54.81062, -6.16405 54.81063...</td>\n",
       "    </tr>\n",
       "    <tr>\n",
       "      <th>6</th>\n",
       "      <td>Ards and North Down</td>\n",
       "      <td>MULTIPOLYGON (((-5.74192 54.67759, -5.74190 54...</td>\n",
       "    </tr>\n",
       "    <tr>\n",
       "      <th>7</th>\n",
       "      <td>Fermanagh and Omagh</td>\n",
       "      <td>POLYGON ((-6.99814 54.78009, -6.99806 54.78010...</td>\n",
       "    </tr>\n",
       "    <tr>\n",
       "      <th>8</th>\n",
       "      <td>Derry City and Strabane</td>\n",
       "      <td>POLYGON ((-7.25762 55.06648, -7.25759 55.06648...</td>\n",
       "    </tr>\n",
       "    <tr>\n",
       "      <th>9</th>\n",
       "      <td>Causeway Coast and Glens</td>\n",
       "      <td>MULTIPOLYGON (((-6.48405 55.25194, -6.48401 55...</td>\n",
       "    </tr>\n",
       "    <tr>\n",
       "      <th>10</th>\n",
       "      <td>Belfast</td>\n",
       "      <td>POLYGON ((-5.92755 54.65170, -5.92732 54.65155...</td>\n",
       "    </tr>\n",
       "  </tbody>\n",
       "</table>\n",
       "</div>"
      ],
      "text/plain": [
       "                                district  \\\n",
       "0                 Newry, Mourne and Down   \n",
       "1                             Mid Ulster   \n",
       "2                    Mid and East Antrim   \n",
       "3                Lisburn and Castlereagh   \n",
       "4   Armagh City, Banbridge and Craigavon   \n",
       "5                Antrim and Newtownabbey   \n",
       "6                    Ards and North Down   \n",
       "7                    Fermanagh and Omagh   \n",
       "8                Derry City and Strabane   \n",
       "9               Causeway Coast and Glens   \n",
       "10                               Belfast   \n",
       "\n",
       "                                             geometry  \n",
       "0   POLYGON ((-5.82139 54.49408, -5.82128 54.49399...  \n",
       "1   POLYGON ((-6.53263 54.94913, -6.53253 54.94901...  \n",
       "2   POLYGON ((-5.96917 55.05284, -5.96909 55.05284...  \n",
       "3   POLYGON ((-6.08760 54.62414, -6.08699 54.62394...  \n",
       "4   POLYGON ((-6.27820 54.54965, -6.27819 54.54960...  \n",
       "5   POLYGON ((-6.16426 54.81062, -6.16405 54.81063...  \n",
       "6   MULTIPOLYGON (((-5.74192 54.67759, -5.74190 54...  \n",
       "7   POLYGON ((-6.99814 54.78009, -6.99806 54.78010...  \n",
       "8   POLYGON ((-7.25762 55.06648, -7.25759 55.06648...  \n",
       "9   MULTIPOLYGON (((-6.48405 55.25194, -6.48401 55...  \n",
       "10  POLYGON ((-5.92755 54.65170, -5.92732 54.65155...  "
      ]
     },
     "execution_count": 4,
     "metadata": {},
     "output_type": "execute_result"
    }
   ],
   "source": [
    "district"
   ]
  },
  {
   "cell_type": "code",
   "execution_count": 5,
   "metadata": {},
   "outputs": [
    {
     "data": {
      "text/plain": [
       "<AxesSubplot:>"
      ]
     },
     "execution_count": 5,
     "metadata": {},
     "output_type": "execute_result"
    },
    {
     "data": {
      "image/png": "[encoded data removed]",
      "text/plain": [
       "<Figure size 432x288 with 1 Axes>"
      ]
     },
     "metadata": {
      "needs_background": "light"
     },
     "output_type": "display_data"
    }
   ],
   "source": [
    "district.plot()"
   ]
  },
  {
   "cell_type": "code",
   "execution_count": null,
   "metadata": {},
   "outputs": [],
   "source": []
  }
 ],
 "metadata": {
  "kernelspec": {
   "display_name": "Python 3",
   "language": "python",
   "name": "python3"
  },
  "language_info": {
   "codemirror_mode": {
    "name": "ipython",
    "version": 3
   },
   "file_extension": ".py",
   "mimetype": "text/x-python",
   "name": "python",
   "nbconvert_exporter": "python",
   "pygments_lexer": "ipython3",
   "version": "3.9.1"
  }
 },
 "nbformat": 4,
 "nbformat_minor": 4
}
