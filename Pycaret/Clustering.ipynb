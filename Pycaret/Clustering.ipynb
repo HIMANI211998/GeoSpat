{
 "cells": [
  {
   "cell_type": "code",
   "execution_count": 22,
   "metadata": {},
   "outputs": [],
   "source": [
    "import pycaret\n",
    "from pycaret.datasets import get_data\n"
   ]
  },
  {
   "cell_type": "markdown",
   "metadata": {},
   "source": [
    "## Clustering\n",
    "### https://pycaret.org/clustering/"
   ]
  },
  {
   "cell_type": "code",
   "execution_count": 8,
   "metadata": {},
   "outputs": [
    {
     "data": {
      "text/html": [
       "<div>\n",
       "<style scoped>\n",
       "    .dataframe tbody tr th:only-of-type {\n",
       "        vertical-align: middle;\n",
       "    }\n",
       "\n",
       "    .dataframe tbody tr th {\n",
       "        vertical-align: top;\n",
       "    }\n",
       "\n",
       "    .dataframe thead th {\n",
       "        text-align: right;\n",
       "    }\n",
       "</style>\n",
       "<table border=\"1\" class=\"dataframe\">\n",
       "  <thead>\n",
       "    <tr style=\"text-align: right;\">\n",
       "      <th></th>\n",
       "      <th>Age</th>\n",
       "      <th>Income</th>\n",
       "      <th>SpendingScore</th>\n",
       "      <th>Savings</th>\n",
       "    </tr>\n",
       "  </thead>\n",
       "  <tbody>\n",
       "    <tr>\n",
       "      <th>0</th>\n",
       "      <td>58</td>\n",
       "      <td>77769</td>\n",
       "      <td>0.791329</td>\n",
       "      <td>6559.829923</td>\n",
       "    </tr>\n",
       "    <tr>\n",
       "      <th>1</th>\n",
       "      <td>59</td>\n",
       "      <td>81799</td>\n",
       "      <td>0.791082</td>\n",
       "      <td>5417.661426</td>\n",
       "    </tr>\n",
       "    <tr>\n",
       "      <th>2</th>\n",
       "      <td>62</td>\n",
       "      <td>74751</td>\n",
       "      <td>0.702657</td>\n",
       "      <td>9258.992965</td>\n",
       "    </tr>\n",
       "    <tr>\n",
       "      <th>3</th>\n",
       "      <td>59</td>\n",
       "      <td>74373</td>\n",
       "      <td>0.765680</td>\n",
       "      <td>7346.334504</td>\n",
       "    </tr>\n",
       "    <tr>\n",
       "      <th>4</th>\n",
       "      <td>87</td>\n",
       "      <td>17760</td>\n",
       "      <td>0.348778</td>\n",
       "      <td>16869.507130</td>\n",
       "    </tr>\n",
       "  </tbody>\n",
       "</table>\n",
       "</div>"
      ],
      "text/plain": [
       "   Age  Income  SpendingScore       Savings\n",
       "0   58   77769       0.791329   6559.829923\n",
       "1   59   81799       0.791082   5417.661426\n",
       "2   62   74751       0.702657   9258.992965\n",
       "3   59   74373       0.765680   7346.334504\n",
       "4   87   17760       0.348778  16869.507130"
      ]
     },
     "metadata": {},
     "output_type": "display_data"
    }
   ],
   "source": [
    "jewellery=get_data('jewellery')"
   ]
  },
  {
   "cell_type": "code",
   "execution_count": 11,
   "metadata": {},
   "outputs": [
    {
     "data": {
      "text/html": [
       "<style  type=\"text/css\" >\n",
       "</style><table id=\"T_5e73d833_4761_11eb_a6b8_548ca07ec436\" ><thead>    <tr>        <th class=\"blank level0\" ></th>        <th class=\"col_heading level0 col0\" >Description</th>        <th class=\"col_heading level0 col1\" >Value</th>    </tr></thead><tbody>\n",
       "                <tr>\n",
       "                        <th id=\"T_5e73d833_4761_11eb_a6b8_548ca07ec436level0_row0\" class=\"row_heading level0 row0\" >0</th>\n",
       "                        <td id=\"T_5e73d833_4761_11eb_a6b8_548ca07ec436row0_col0\" class=\"data row0 col0\" >session_id</td>\n",
       "                        <td id=\"T_5e73d833_4761_11eb_a6b8_548ca07ec436row0_col1\" class=\"data row0 col1\" >8710</td>\n",
       "            </tr>\n",
       "            <tr>\n",
       "                        <th id=\"T_5e73d833_4761_11eb_a6b8_548ca07ec436level0_row1\" class=\"row_heading level0 row1\" >1</th>\n",
       "                        <td id=\"T_5e73d833_4761_11eb_a6b8_548ca07ec436row1_col0\" class=\"data row1 col0\" >Original Data</td>\n",
       "                        <td id=\"T_5e73d833_4761_11eb_a6b8_548ca07ec436row1_col1\" class=\"data row1 col1\" >(505, 4)</td>\n",
       "            </tr>\n",
       "            <tr>\n",
       "                        <th id=\"T_5e73d833_4761_11eb_a6b8_548ca07ec436level0_row2\" class=\"row_heading level0 row2\" >2</th>\n",
       "                        <td id=\"T_5e73d833_4761_11eb_a6b8_548ca07ec436row2_col0\" class=\"data row2 col0\" >Missing Values</td>\n",
       "                        <td id=\"T_5e73d833_4761_11eb_a6b8_548ca07ec436row2_col1\" class=\"data row2 col1\" >False</td>\n",
       "            </tr>\n",
       "            <tr>\n",
       "                        <th id=\"T_5e73d833_4761_11eb_a6b8_548ca07ec436level0_row3\" class=\"row_heading level0 row3\" >3</th>\n",
       "                        <td id=\"T_5e73d833_4761_11eb_a6b8_548ca07ec436row3_col0\" class=\"data row3 col0\" >Numeric Features</td>\n",
       "                        <td id=\"T_5e73d833_4761_11eb_a6b8_548ca07ec436row3_col1\" class=\"data row3 col1\" >4</td>\n",
       "            </tr>\n",
       "            <tr>\n",
       "                        <th id=\"T_5e73d833_4761_11eb_a6b8_548ca07ec436level0_row4\" class=\"row_heading level0 row4\" >4</th>\n",
       "                        <td id=\"T_5e73d833_4761_11eb_a6b8_548ca07ec436row4_col0\" class=\"data row4 col0\" >Categorical Features</td>\n",
       "                        <td id=\"T_5e73d833_4761_11eb_a6b8_548ca07ec436row4_col1\" class=\"data row4 col1\" >0</td>\n",
       "            </tr>\n",
       "            <tr>\n",
       "                        <th id=\"T_5e73d833_4761_11eb_a6b8_548ca07ec436level0_row5\" class=\"row_heading level0 row5\" >5</th>\n",
       "                        <td id=\"T_5e73d833_4761_11eb_a6b8_548ca07ec436row5_col0\" class=\"data row5 col0\" >Ordinal Features</td>\n",
       "                        <td id=\"T_5e73d833_4761_11eb_a6b8_548ca07ec436row5_col1\" class=\"data row5 col1\" >False</td>\n",
       "            </tr>\n",
       "            <tr>\n",
       "                        <th id=\"T_5e73d833_4761_11eb_a6b8_548ca07ec436level0_row6\" class=\"row_heading level0 row6\" >6</th>\n",
       "                        <td id=\"T_5e73d833_4761_11eb_a6b8_548ca07ec436row6_col0\" class=\"data row6 col0\" >High Cardinality Features</td>\n",
       "                        <td id=\"T_5e73d833_4761_11eb_a6b8_548ca07ec436row6_col1\" class=\"data row6 col1\" >False</td>\n",
       "            </tr>\n",
       "            <tr>\n",
       "                        <th id=\"T_5e73d833_4761_11eb_a6b8_548ca07ec436level0_row7\" class=\"row_heading level0 row7\" >7</th>\n",
       "                        <td id=\"T_5e73d833_4761_11eb_a6b8_548ca07ec436row7_col0\" class=\"data row7 col0\" >High Cardinality Method</td>\n",
       "                        <td id=\"T_5e73d833_4761_11eb_a6b8_548ca07ec436row7_col1\" class=\"data row7 col1\" >None</td>\n",
       "            </tr>\n",
       "            <tr>\n",
       "                        <th id=\"T_5e73d833_4761_11eb_a6b8_548ca07ec436level0_row8\" class=\"row_heading level0 row8\" >8</th>\n",
       "                        <td id=\"T_5e73d833_4761_11eb_a6b8_548ca07ec436row8_col0\" class=\"data row8 col0\" >Transformed Data</td>\n",
       "                        <td id=\"T_5e73d833_4761_11eb_a6b8_548ca07ec436row8_col1\" class=\"data row8 col1\" >(505, 4)</td>\n",
       "            </tr>\n",
       "            <tr>\n",
       "                        <th id=\"T_5e73d833_4761_11eb_a6b8_548ca07ec436level0_row9\" class=\"row_heading level0 row9\" >9</th>\n",
       "                        <td id=\"T_5e73d833_4761_11eb_a6b8_548ca07ec436row9_col0\" class=\"data row9 col0\" >CPU Jobs</td>\n",
       "                        <td id=\"T_5e73d833_4761_11eb_a6b8_548ca07ec436row9_col1\" class=\"data row9 col1\" >-1</td>\n",
       "            </tr>\n",
       "            <tr>\n",
       "                        <th id=\"T_5e73d833_4761_11eb_a6b8_548ca07ec436level0_row10\" class=\"row_heading level0 row10\" >10</th>\n",
       "                        <td id=\"T_5e73d833_4761_11eb_a6b8_548ca07ec436row10_col0\" class=\"data row10 col0\" >Use GPU</td>\n",
       "                        <td id=\"T_5e73d833_4761_11eb_a6b8_548ca07ec436row10_col1\" class=\"data row10 col1\" >False</td>\n",
       "            </tr>\n",
       "            <tr>\n",
       "                        <th id=\"T_5e73d833_4761_11eb_a6b8_548ca07ec436level0_row11\" class=\"row_heading level0 row11\" >11</th>\n",
       "                        <td id=\"T_5e73d833_4761_11eb_a6b8_548ca07ec436row11_col0\" class=\"data row11 col0\" >Log Experiment</td>\n",
       "                        <td id=\"T_5e73d833_4761_11eb_a6b8_548ca07ec436row11_col1\" class=\"data row11 col1\" >False</td>\n",
       "            </tr>\n",
       "            <tr>\n",
       "                        <th id=\"T_5e73d833_4761_11eb_a6b8_548ca07ec436level0_row12\" class=\"row_heading level0 row12\" >12</th>\n",
       "                        <td id=\"T_5e73d833_4761_11eb_a6b8_548ca07ec436row12_col0\" class=\"data row12 col0\" >Experiment Name</td>\n",
       "                        <td id=\"T_5e73d833_4761_11eb_a6b8_548ca07ec436row12_col1\" class=\"data row12 col1\" >cluster-default-name</td>\n",
       "            </tr>\n",
       "            <tr>\n",
       "                        <th id=\"T_5e73d833_4761_11eb_a6b8_548ca07ec436level0_row13\" class=\"row_heading level0 row13\" >13</th>\n",
       "                        <td id=\"T_5e73d833_4761_11eb_a6b8_548ca07ec436row13_col0\" class=\"data row13 col0\" >USI</td>\n",
       "                        <td id=\"T_5e73d833_4761_11eb_a6b8_548ca07ec436row13_col1\" class=\"data row13 col1\" >0c32</td>\n",
       "            </tr>\n",
       "            <tr>\n",
       "                        <th id=\"T_5e73d833_4761_11eb_a6b8_548ca07ec436level0_row14\" class=\"row_heading level0 row14\" >14</th>\n",
       "                        <td id=\"T_5e73d833_4761_11eb_a6b8_548ca07ec436row14_col0\" class=\"data row14 col0\" >Imputation Type</td>\n",
       "                        <td id=\"T_5e73d833_4761_11eb_a6b8_548ca07ec436row14_col1\" class=\"data row14 col1\" >simple</td>\n",
       "            </tr>\n",
       "            <tr>\n",
       "                        <th id=\"T_5e73d833_4761_11eb_a6b8_548ca07ec436level0_row15\" class=\"row_heading level0 row15\" >15</th>\n",
       "                        <td id=\"T_5e73d833_4761_11eb_a6b8_548ca07ec436row15_col0\" class=\"data row15 col0\" >Iterative Imputation Iteration</td>\n",
       "                        <td id=\"T_5e73d833_4761_11eb_a6b8_548ca07ec436row15_col1\" class=\"data row15 col1\" >None</td>\n",
       "            </tr>\n",
       "            <tr>\n",
       "                        <th id=\"T_5e73d833_4761_11eb_a6b8_548ca07ec436level0_row16\" class=\"row_heading level0 row16\" >16</th>\n",
       "                        <td id=\"T_5e73d833_4761_11eb_a6b8_548ca07ec436row16_col0\" class=\"data row16 col0\" >Numeric Imputer</td>\n",
       "                        <td id=\"T_5e73d833_4761_11eb_a6b8_548ca07ec436row16_col1\" class=\"data row16 col1\" >mean</td>\n",
       "            </tr>\n",
       "            <tr>\n",
       "                        <th id=\"T_5e73d833_4761_11eb_a6b8_548ca07ec436level0_row17\" class=\"row_heading level0 row17\" >17</th>\n",
       "                        <td id=\"T_5e73d833_4761_11eb_a6b8_548ca07ec436row17_col0\" class=\"data row17 col0\" >Iterative Imputation Numeric Model</td>\n",
       "                        <td id=\"T_5e73d833_4761_11eb_a6b8_548ca07ec436row17_col1\" class=\"data row17 col1\" >None</td>\n",
       "            </tr>\n",
       "            <tr>\n",
       "                        <th id=\"T_5e73d833_4761_11eb_a6b8_548ca07ec436level0_row18\" class=\"row_heading level0 row18\" >18</th>\n",
       "                        <td id=\"T_5e73d833_4761_11eb_a6b8_548ca07ec436row18_col0\" class=\"data row18 col0\" >Categorical Imputer</td>\n",
       "                        <td id=\"T_5e73d833_4761_11eb_a6b8_548ca07ec436row18_col1\" class=\"data row18 col1\" >mode</td>\n",
       "            </tr>\n",
       "            <tr>\n",
       "                        <th id=\"T_5e73d833_4761_11eb_a6b8_548ca07ec436level0_row19\" class=\"row_heading level0 row19\" >19</th>\n",
       "                        <td id=\"T_5e73d833_4761_11eb_a6b8_548ca07ec436row19_col0\" class=\"data row19 col0\" >Iterative Imputation Categorical Model</td>\n",
       "                        <td id=\"T_5e73d833_4761_11eb_a6b8_548ca07ec436row19_col1\" class=\"data row19 col1\" >None</td>\n",
       "            </tr>\n",
       "            <tr>\n",
       "                        <th id=\"T_5e73d833_4761_11eb_a6b8_548ca07ec436level0_row20\" class=\"row_heading level0 row20\" >20</th>\n",
       "                        <td id=\"T_5e73d833_4761_11eb_a6b8_548ca07ec436row20_col0\" class=\"data row20 col0\" >Unknown Categoricals Handling</td>\n",
       "                        <td id=\"T_5e73d833_4761_11eb_a6b8_548ca07ec436row20_col1\" class=\"data row20 col1\" >least_frequent</td>\n",
       "            </tr>\n",
       "            <tr>\n",
       "                        <th id=\"T_5e73d833_4761_11eb_a6b8_548ca07ec436level0_row21\" class=\"row_heading level0 row21\" >21</th>\n",
       "                        <td id=\"T_5e73d833_4761_11eb_a6b8_548ca07ec436row21_col0\" class=\"data row21 col0\" >Normalize</td>\n",
       "                        <td id=\"T_5e73d833_4761_11eb_a6b8_548ca07ec436row21_col1\" class=\"data row21 col1\" >False</td>\n",
       "            </tr>\n",
       "            <tr>\n",
       "                        <th id=\"T_5e73d833_4761_11eb_a6b8_548ca07ec436level0_row22\" class=\"row_heading level0 row22\" >22</th>\n",
       "                        <td id=\"T_5e73d833_4761_11eb_a6b8_548ca07ec436row22_col0\" class=\"data row22 col0\" >Normalize Method</td>\n",
       "                        <td id=\"T_5e73d833_4761_11eb_a6b8_548ca07ec436row22_col1\" class=\"data row22 col1\" >None</td>\n",
       "            </tr>\n",
       "            <tr>\n",
       "                        <th id=\"T_5e73d833_4761_11eb_a6b8_548ca07ec436level0_row23\" class=\"row_heading level0 row23\" >23</th>\n",
       "                        <td id=\"T_5e73d833_4761_11eb_a6b8_548ca07ec436row23_col0\" class=\"data row23 col0\" >Transformation</td>\n",
       "                        <td id=\"T_5e73d833_4761_11eb_a6b8_548ca07ec436row23_col1\" class=\"data row23 col1\" >False</td>\n",
       "            </tr>\n",
       "            <tr>\n",
       "                        <th id=\"T_5e73d833_4761_11eb_a6b8_548ca07ec436level0_row24\" class=\"row_heading level0 row24\" >24</th>\n",
       "                        <td id=\"T_5e73d833_4761_11eb_a6b8_548ca07ec436row24_col0\" class=\"data row24 col0\" >Transformation Method</td>\n",
       "                        <td id=\"T_5e73d833_4761_11eb_a6b8_548ca07ec436row24_col1\" class=\"data row24 col1\" >None</td>\n",
       "            </tr>\n",
       "            <tr>\n",
       "                        <th id=\"T_5e73d833_4761_11eb_a6b8_548ca07ec436level0_row25\" class=\"row_heading level0 row25\" >25</th>\n",
       "                        <td id=\"T_5e73d833_4761_11eb_a6b8_548ca07ec436row25_col0\" class=\"data row25 col0\" >PCA</td>\n",
       "                        <td id=\"T_5e73d833_4761_11eb_a6b8_548ca07ec436row25_col1\" class=\"data row25 col1\" >False</td>\n",
       "            </tr>\n",
       "            <tr>\n",
       "                        <th id=\"T_5e73d833_4761_11eb_a6b8_548ca07ec436level0_row26\" class=\"row_heading level0 row26\" >26</th>\n",
       "                        <td id=\"T_5e73d833_4761_11eb_a6b8_548ca07ec436row26_col0\" class=\"data row26 col0\" >PCA Method</td>\n",
       "                        <td id=\"T_5e73d833_4761_11eb_a6b8_548ca07ec436row26_col1\" class=\"data row26 col1\" >None</td>\n",
       "            </tr>\n",
       "            <tr>\n",
       "                        <th id=\"T_5e73d833_4761_11eb_a6b8_548ca07ec436level0_row27\" class=\"row_heading level0 row27\" >27</th>\n",
       "                        <td id=\"T_5e73d833_4761_11eb_a6b8_548ca07ec436row27_col0\" class=\"data row27 col0\" >PCA Components</td>\n",
       "                        <td id=\"T_5e73d833_4761_11eb_a6b8_548ca07ec436row27_col1\" class=\"data row27 col1\" >None</td>\n",
       "            </tr>\n",
       "            <tr>\n",
       "                        <th id=\"T_5e73d833_4761_11eb_a6b8_548ca07ec436level0_row28\" class=\"row_heading level0 row28\" >28</th>\n",
       "                        <td id=\"T_5e73d833_4761_11eb_a6b8_548ca07ec436row28_col0\" class=\"data row28 col0\" >Ignore Low Variance</td>\n",
       "                        <td id=\"T_5e73d833_4761_11eb_a6b8_548ca07ec436row28_col1\" class=\"data row28 col1\" >False</td>\n",
       "            </tr>\n",
       "            <tr>\n",
       "                        <th id=\"T_5e73d833_4761_11eb_a6b8_548ca07ec436level0_row29\" class=\"row_heading level0 row29\" >29</th>\n",
       "                        <td id=\"T_5e73d833_4761_11eb_a6b8_548ca07ec436row29_col0\" class=\"data row29 col0\" >Combine Rare Levels</td>\n",
       "                        <td id=\"T_5e73d833_4761_11eb_a6b8_548ca07ec436row29_col1\" class=\"data row29 col1\" >False</td>\n",
       "            </tr>\n",
       "            <tr>\n",
       "                        <th id=\"T_5e73d833_4761_11eb_a6b8_548ca07ec436level0_row30\" class=\"row_heading level0 row30\" >30</th>\n",
       "                        <td id=\"T_5e73d833_4761_11eb_a6b8_548ca07ec436row30_col0\" class=\"data row30 col0\" >Rare Level Threshold</td>\n",
       "                        <td id=\"T_5e73d833_4761_11eb_a6b8_548ca07ec436row30_col1\" class=\"data row30 col1\" >None</td>\n",
       "            </tr>\n",
       "            <tr>\n",
       "                        <th id=\"T_5e73d833_4761_11eb_a6b8_548ca07ec436level0_row31\" class=\"row_heading level0 row31\" >31</th>\n",
       "                        <td id=\"T_5e73d833_4761_11eb_a6b8_548ca07ec436row31_col0\" class=\"data row31 col0\" >Numeric Binning</td>\n",
       "                        <td id=\"T_5e73d833_4761_11eb_a6b8_548ca07ec436row31_col1\" class=\"data row31 col1\" >False</td>\n",
       "            </tr>\n",
       "            <tr>\n",
       "                        <th id=\"T_5e73d833_4761_11eb_a6b8_548ca07ec436level0_row32\" class=\"row_heading level0 row32\" >32</th>\n",
       "                        <td id=\"T_5e73d833_4761_11eb_a6b8_548ca07ec436row32_col0\" class=\"data row32 col0\" >Remove Outliers</td>\n",
       "                        <td id=\"T_5e73d833_4761_11eb_a6b8_548ca07ec436row32_col1\" class=\"data row32 col1\" >False</td>\n",
       "            </tr>\n",
       "            <tr>\n",
       "                        <th id=\"T_5e73d833_4761_11eb_a6b8_548ca07ec436level0_row33\" class=\"row_heading level0 row33\" >33</th>\n",
       "                        <td id=\"T_5e73d833_4761_11eb_a6b8_548ca07ec436row33_col0\" class=\"data row33 col0\" >Outliers Threshold</td>\n",
       "                        <td id=\"T_5e73d833_4761_11eb_a6b8_548ca07ec436row33_col1\" class=\"data row33 col1\" >None</td>\n",
       "            </tr>\n",
       "            <tr>\n",
       "                        <th id=\"T_5e73d833_4761_11eb_a6b8_548ca07ec436level0_row34\" class=\"row_heading level0 row34\" >34</th>\n",
       "                        <td id=\"T_5e73d833_4761_11eb_a6b8_548ca07ec436row34_col0\" class=\"data row34 col0\" >Remove Multicollinearity</td>\n",
       "                        <td id=\"T_5e73d833_4761_11eb_a6b8_548ca07ec436row34_col1\" class=\"data row34 col1\" >False</td>\n",
       "            </tr>\n",
       "            <tr>\n",
       "                        <th id=\"T_5e73d833_4761_11eb_a6b8_548ca07ec436level0_row35\" class=\"row_heading level0 row35\" >35</th>\n",
       "                        <td id=\"T_5e73d833_4761_11eb_a6b8_548ca07ec436row35_col0\" class=\"data row35 col0\" >Multicollinearity Threshold</td>\n",
       "                        <td id=\"T_5e73d833_4761_11eb_a6b8_548ca07ec436row35_col1\" class=\"data row35 col1\" >None</td>\n",
       "            </tr>\n",
       "            <tr>\n",
       "                        <th id=\"T_5e73d833_4761_11eb_a6b8_548ca07ec436level0_row36\" class=\"row_heading level0 row36\" >36</th>\n",
       "                        <td id=\"T_5e73d833_4761_11eb_a6b8_548ca07ec436row36_col0\" class=\"data row36 col0\" >Clustering</td>\n",
       "                        <td id=\"T_5e73d833_4761_11eb_a6b8_548ca07ec436row36_col1\" class=\"data row36 col1\" >False</td>\n",
       "            </tr>\n",
       "            <tr>\n",
       "                        <th id=\"T_5e73d833_4761_11eb_a6b8_548ca07ec436level0_row37\" class=\"row_heading level0 row37\" >37</th>\n",
       "                        <td id=\"T_5e73d833_4761_11eb_a6b8_548ca07ec436row37_col0\" class=\"data row37 col0\" >Clustering Iteration</td>\n",
       "                        <td id=\"T_5e73d833_4761_11eb_a6b8_548ca07ec436row37_col1\" class=\"data row37 col1\" >None</td>\n",
       "            </tr>\n",
       "            <tr>\n",
       "                        <th id=\"T_5e73d833_4761_11eb_a6b8_548ca07ec436level0_row38\" class=\"row_heading level0 row38\" >38</th>\n",
       "                        <td id=\"T_5e73d833_4761_11eb_a6b8_548ca07ec436row38_col0\" class=\"data row38 col0\" >Polynomial Features</td>\n",
       "                        <td id=\"T_5e73d833_4761_11eb_a6b8_548ca07ec436row38_col1\" class=\"data row38 col1\" >False</td>\n",
       "            </tr>\n",
       "            <tr>\n",
       "                        <th id=\"T_5e73d833_4761_11eb_a6b8_548ca07ec436level0_row39\" class=\"row_heading level0 row39\" >39</th>\n",
       "                        <td id=\"T_5e73d833_4761_11eb_a6b8_548ca07ec436row39_col0\" class=\"data row39 col0\" >Polynomial Degree</td>\n",
       "                        <td id=\"T_5e73d833_4761_11eb_a6b8_548ca07ec436row39_col1\" class=\"data row39 col1\" >None</td>\n",
       "            </tr>\n",
       "            <tr>\n",
       "                        <th id=\"T_5e73d833_4761_11eb_a6b8_548ca07ec436level0_row40\" class=\"row_heading level0 row40\" >40</th>\n",
       "                        <td id=\"T_5e73d833_4761_11eb_a6b8_548ca07ec436row40_col0\" class=\"data row40 col0\" >Trignometry Features</td>\n",
       "                        <td id=\"T_5e73d833_4761_11eb_a6b8_548ca07ec436row40_col1\" class=\"data row40 col1\" >False</td>\n",
       "            </tr>\n",
       "            <tr>\n",
       "                        <th id=\"T_5e73d833_4761_11eb_a6b8_548ca07ec436level0_row41\" class=\"row_heading level0 row41\" >41</th>\n",
       "                        <td id=\"T_5e73d833_4761_11eb_a6b8_548ca07ec436row41_col0\" class=\"data row41 col0\" >Polynomial Threshold</td>\n",
       "                        <td id=\"T_5e73d833_4761_11eb_a6b8_548ca07ec436row41_col1\" class=\"data row41 col1\" >None</td>\n",
       "            </tr>\n",
       "            <tr>\n",
       "                        <th id=\"T_5e73d833_4761_11eb_a6b8_548ca07ec436level0_row42\" class=\"row_heading level0 row42\" >42</th>\n",
       "                        <td id=\"T_5e73d833_4761_11eb_a6b8_548ca07ec436row42_col0\" class=\"data row42 col0\" >Group Features</td>\n",
       "                        <td id=\"T_5e73d833_4761_11eb_a6b8_548ca07ec436row42_col1\" class=\"data row42 col1\" >False</td>\n",
       "            </tr>\n",
       "            <tr>\n",
       "                        <th id=\"T_5e73d833_4761_11eb_a6b8_548ca07ec436level0_row43\" class=\"row_heading level0 row43\" >43</th>\n",
       "                        <td id=\"T_5e73d833_4761_11eb_a6b8_548ca07ec436row43_col0\" class=\"data row43 col0\" >Feature Selection</td>\n",
       "                        <td id=\"T_5e73d833_4761_11eb_a6b8_548ca07ec436row43_col1\" class=\"data row43 col1\" >False</td>\n",
       "            </tr>\n",
       "            <tr>\n",
       "                        <th id=\"T_5e73d833_4761_11eb_a6b8_548ca07ec436level0_row44\" class=\"row_heading level0 row44\" >44</th>\n",
       "                        <td id=\"T_5e73d833_4761_11eb_a6b8_548ca07ec436row44_col0\" class=\"data row44 col0\" >Features Selection Threshold</td>\n",
       "                        <td id=\"T_5e73d833_4761_11eb_a6b8_548ca07ec436row44_col1\" class=\"data row44 col1\" >None</td>\n",
       "            </tr>\n",
       "            <tr>\n",
       "                        <th id=\"T_5e73d833_4761_11eb_a6b8_548ca07ec436level0_row45\" class=\"row_heading level0 row45\" >45</th>\n",
       "                        <td id=\"T_5e73d833_4761_11eb_a6b8_548ca07ec436row45_col0\" class=\"data row45 col0\" >Feature Interaction</td>\n",
       "                        <td id=\"T_5e73d833_4761_11eb_a6b8_548ca07ec436row45_col1\" class=\"data row45 col1\" >False</td>\n",
       "            </tr>\n",
       "            <tr>\n",
       "                        <th id=\"T_5e73d833_4761_11eb_a6b8_548ca07ec436level0_row46\" class=\"row_heading level0 row46\" >46</th>\n",
       "                        <td id=\"T_5e73d833_4761_11eb_a6b8_548ca07ec436row46_col0\" class=\"data row46 col0\" >Feature Ratio</td>\n",
       "                        <td id=\"T_5e73d833_4761_11eb_a6b8_548ca07ec436row46_col1\" class=\"data row46 col1\" >False</td>\n",
       "            </tr>\n",
       "            <tr>\n",
       "                        <th id=\"T_5e73d833_4761_11eb_a6b8_548ca07ec436level0_row47\" class=\"row_heading level0 row47\" >47</th>\n",
       "                        <td id=\"T_5e73d833_4761_11eb_a6b8_548ca07ec436row47_col0\" class=\"data row47 col0\" >Interaction Threshold</td>\n",
       "                        <td id=\"T_5e73d833_4761_11eb_a6b8_548ca07ec436row47_col1\" class=\"data row47 col1\" >None</td>\n",
       "            </tr>\n",
       "    </tbody></table>"
      ],
      "text/plain": [
       "<pandas.io.formats.style.Styler at 0x1b4c583f940>"
      ]
     },
     "metadata": {},
     "output_type": "display_data"
    }
   ],
   "source": [
    "from pycaret.clustering import *\n",
    "cluster_df=setup(jewellery)"
   ]
  },
  {
   "cell_type": "code",
   "execution_count": 13,
   "metadata": {},
   "outputs": [
    {
     "data": {
      "text/html": [
       "<div>\n",
       "<style scoped>\n",
       "    .dataframe tbody tr th:only-of-type {\n",
       "        vertical-align: middle;\n",
       "    }\n",
       "\n",
       "    .dataframe tbody tr th {\n",
       "        vertical-align: top;\n",
       "    }\n",
       "\n",
       "    .dataframe thead th {\n",
       "        text-align: right;\n",
       "    }\n",
       "</style>\n",
       "<table border=\"1\" class=\"dataframe\">\n",
       "  <thead>\n",
       "    <tr style=\"text-align: right;\">\n",
       "      <th></th>\n",
       "      <th>Silhouette</th>\n",
       "      <th>Calinski-Harabasz</th>\n",
       "      <th>Davies-Bouldin</th>\n",
       "      <th>Homogeneity</th>\n",
       "      <th>Rand Index</th>\n",
       "      <th>Completeness</th>\n",
       "    </tr>\n",
       "  </thead>\n",
       "  <tbody>\n",
       "    <tr>\n",
       "      <th>0</th>\n",
       "      <td>0.7207</td>\n",
       "      <td>5011.8113</td>\n",
       "      <td>0.4114</td>\n",
       "      <td>0</td>\n",
       "      <td>0</td>\n",
       "      <td>0</td>\n",
       "    </tr>\n",
       "  </tbody>\n",
       "</table>\n",
       "</div>"
      ],
      "text/plain": [
       "   Silhouette  Calinski-Harabasz  Davies-Bouldin  Homogeneity  Rand Index  \\\n",
       "0      0.7207          5011.8113          0.4114            0           0   \n",
       "\n",
       "   Completeness  \n",
       "0             0  "
      ]
     },
     "metadata": {},
     "output_type": "display_data"
    }
   ],
   "source": [
    "kmeans=create_model('kmeans')"
   ]
  },
  {
   "cell_type": "markdown",
   "metadata": {},
   "source": [
    "## Assign Labels to Dataframes"
   ]
  },
  {
   "cell_type": "code",
   "execution_count": 15,
   "metadata": {},
   "outputs": [],
   "source": [
    "kmeans_df=assign_model(kmeans)"
   ]
  },
  {
   "cell_type": "code",
   "execution_count": 16,
   "metadata": {},
   "outputs": [
    {
     "data": {
      "text/html": [
       "<div>\n",
       "<style scoped>\n",
       "    .dataframe tbody tr th:only-of-type {\n",
       "        vertical-align: middle;\n",
       "    }\n",
       "\n",
       "    .dataframe tbody tr th {\n",
       "        vertical-align: top;\n",
       "    }\n",
       "\n",
       "    .dataframe thead th {\n",
       "        text-align: right;\n",
       "    }\n",
       "</style>\n",
       "<table border=\"1\" class=\"dataframe\">\n",
       "  <thead>\n",
       "    <tr style=\"text-align: right;\">\n",
       "      <th></th>\n",
       "      <th>Age</th>\n",
       "      <th>Income</th>\n",
       "      <th>SpendingScore</th>\n",
       "      <th>Savings</th>\n",
       "      <th>Cluster</th>\n",
       "    </tr>\n",
       "  </thead>\n",
       "  <tbody>\n",
       "    <tr>\n",
       "      <th>0</th>\n",
       "      <td>58</td>\n",
       "      <td>77769</td>\n",
       "      <td>0.791329</td>\n",
       "      <td>6559.829923</td>\n",
       "      <td>Cluster 2</td>\n",
       "    </tr>\n",
       "    <tr>\n",
       "      <th>1</th>\n",
       "      <td>59</td>\n",
       "      <td>81799</td>\n",
       "      <td>0.791082</td>\n",
       "      <td>5417.661426</td>\n",
       "      <td>Cluster 2</td>\n",
       "    </tr>\n",
       "    <tr>\n",
       "      <th>2</th>\n",
       "      <td>62</td>\n",
       "      <td>74751</td>\n",
       "      <td>0.702657</td>\n",
       "      <td>9258.992965</td>\n",
       "      <td>Cluster 2</td>\n",
       "    </tr>\n",
       "    <tr>\n",
       "      <th>3</th>\n",
       "      <td>59</td>\n",
       "      <td>74373</td>\n",
       "      <td>0.765680</td>\n",
       "      <td>7346.334504</td>\n",
       "      <td>Cluster 2</td>\n",
       "    </tr>\n",
       "    <tr>\n",
       "      <th>4</th>\n",
       "      <td>87</td>\n",
       "      <td>17760</td>\n",
       "      <td>0.348778</td>\n",
       "      <td>16869.507130</td>\n",
       "      <td>Cluster 1</td>\n",
       "    </tr>\n",
       "    <tr>\n",
       "      <th>...</th>\n",
       "      <td>...</td>\n",
       "      <td>...</td>\n",
       "      <td>...</td>\n",
       "      <td>...</td>\n",
       "      <td>...</td>\n",
       "    </tr>\n",
       "    <tr>\n",
       "      <th>500</th>\n",
       "      <td>28</td>\n",
       "      <td>101206</td>\n",
       "      <td>0.387441</td>\n",
       "      <td>14936.775389</td>\n",
       "      <td>Cluster 0</td>\n",
       "    </tr>\n",
       "    <tr>\n",
       "      <th>501</th>\n",
       "      <td>93</td>\n",
       "      <td>19934</td>\n",
       "      <td>0.203140</td>\n",
       "      <td>17969.693769</td>\n",
       "      <td>Cluster 1</td>\n",
       "    </tr>\n",
       "    <tr>\n",
       "      <th>502</th>\n",
       "      <td>90</td>\n",
       "      <td>35297</td>\n",
       "      <td>0.355149</td>\n",
       "      <td>16091.401954</td>\n",
       "      <td>Cluster 1</td>\n",
       "    </tr>\n",
       "    <tr>\n",
       "      <th>503</th>\n",
       "      <td>91</td>\n",
       "      <td>20681</td>\n",
       "      <td>0.354679</td>\n",
       "      <td>18401.088445</td>\n",
       "      <td>Cluster 1</td>\n",
       "    </tr>\n",
       "    <tr>\n",
       "      <th>504</th>\n",
       "      <td>89</td>\n",
       "      <td>30267</td>\n",
       "      <td>0.289310</td>\n",
       "      <td>14386.351880</td>\n",
       "      <td>Cluster 1</td>\n",
       "    </tr>\n",
       "  </tbody>\n",
       "</table>\n",
       "<p>505 rows × 5 columns</p>\n",
       "</div>"
      ],
      "text/plain": [
       "     Age  Income  SpendingScore       Savings    Cluster\n",
       "0     58   77769       0.791329   6559.829923  Cluster 2\n",
       "1     59   81799       0.791082   5417.661426  Cluster 2\n",
       "2     62   74751       0.702657   9258.992965  Cluster 2\n",
       "3     59   74373       0.765680   7346.334504  Cluster 2\n",
       "4     87   17760       0.348778  16869.507130  Cluster 1\n",
       "..   ...     ...            ...           ...        ...\n",
       "500   28  101206       0.387441  14936.775389  Cluster 0\n",
       "501   93   19934       0.203140  17969.693769  Cluster 1\n",
       "502   90   35297       0.355149  16091.401954  Cluster 1\n",
       "503   91   20681       0.354679  18401.088445  Cluster 1\n",
       "504   89   30267       0.289310  14386.351880  Cluster 1\n",
       "\n",
       "[505 rows x 5 columns]"
      ]
     },
     "execution_count": 16,
     "metadata": {},
     "output_type": "execute_result"
    }
   ],
   "source": [
    "kmeans_df"
   ]
  },
  {
   "cell_type": "code",
   "execution_count": 21,
   "metadata": {},
   "outputs": [
    {
     "data": {
      "application/vnd.plotly.v1+json": {
       "config": {
        "plotlyServerURL": "https://plot.ly"
       },
       "data": [
        {
         "customdata": [
          [
           24
          ],
          [
           33
          ],
          [
           35
          ],
          [
           31
          ],
          [
           35
          ],
          [
           37
          ],
          [
           30
          ],
          [
           28
          ],
          [
           36
          ],
          [
           31
          ],
          [
           29
          ],
          [
           35
          ],
          [
           38
          ],
          [
           30
          ],
          [
           84
          ],
          [
           34
          ],
          [
           35
          ],
          [
           38
          ],
          [
           32
          ],
          [
           34
          ],
          [
           28
          ],
          [
           36
          ],
          [
           35
          ],
          [
           34
          ],
          [
           31
          ],
          [
           36
          ],
          [
           34
          ],
          [
           35
          ],
          [
           36
          ],
          [
           34
          ],
          [
           37
          ],
          [
           37
          ],
          [
           27
          ],
          [
           29
          ],
          [
           31
          ],
          [
           35
          ],
          [
           22
          ],
          [
           34
          ],
          [
           32
          ],
          [
           33
          ],
          [
           28
          ],
          [
           33
          ],
          [
           35
          ],
          [
           29
          ],
          [
           33
          ],
          [
           59
          ],
          [
           25
          ],
          [
           31
          ],
          [
           29
          ],
          [
           37
          ],
          [
           31
          ],
          [
           29
          ],
          [
           32
          ],
          [
           37
          ],
          [
           32
          ],
          [
           32
          ],
          [
           29
          ],
          [
           84
          ],
          [
           30
          ],
          [
           29
          ],
          [
           36
          ],
          [
           39
          ],
          [
           31
          ],
          [
           34
          ],
          [
           38
          ],
          [
           29
          ],
          [
           36
          ],
          [
           34
          ],
          [
           37
          ],
          [
           31
          ],
          [
           28
          ],
          [
           31
          ],
          [
           38
          ],
          [
           86
          ],
          [
           30
          ],
          [
           44
          ],
          [
           39
          ],
          [
           31
          ],
          [
           36
          ],
          [
           35
          ],
          [
           30
          ],
          [
           34
          ],
          [
           25
          ],
          [
           31
          ],
          [
           33
          ],
          [
           31
          ],
          [
           37
          ],
          [
           33
          ],
          [
           30
          ],
          [
           36
          ],
          [
           36
          ],
          [
           31
          ],
          [
           35
          ],
          [
           31
          ],
          [
           31
          ],
          [
           40
          ],
          [
           88
          ],
          [
           29
          ],
          [
           31
          ],
          [
           33
          ],
          [
           33
          ],
          [
           42
          ],
          [
           36
          ],
          [
           31
          ],
          [
           85
          ],
          [
           33
          ],
          [
           26
          ],
          [
           33
          ],
          [
           34
          ],
          [
           29
          ],
          [
           30
          ],
          [
           28
          ],
          [
           37
          ],
          [
           31
          ],
          [
           28
          ],
          [
           33
          ],
          [
           33
          ],
          [
           37
          ],
          [
           33
          ],
          [
           30
          ],
          [
           33
          ],
          [
           84
          ],
          [
           32
          ],
          [
           30
          ],
          [
           30
          ],
          [
           37
          ],
          [
           43
          ],
          [
           30
          ],
          [
           28
          ],
          [
           39
          ]
         ],
         "hovertemplate": "Cluster=Cluster 0<br>PCA1=%{x}<br>PCA2=%{y}<br>Feature=%{customdata[0]}<extra></extra>",
         "legendgroup": "Cluster 0",
         "marker": {
          "color": "#636efa",
          "opacity": 0.5,
          "symbol": "circle"
         },
         "mode": "markers",
         "name": "Cluster 0",
         "orientation": "v",
         "showlegend": true,
         "textposition": "top center",
         "type": "scatter",
         "x": [
          34815.2578125,
          23896.37109375,
          26578.154296875,
          28681.548828125,
          26003.5234375,
          31202.4140625,
          33217.92578125,
          22236.173828125,
          20592.34765625,
          39135.37890625,
          35036.71875,
          31317.298828125,
          18943.375,
          20486.14453125,
          34834.890625,
          35572.71875,
          30806.77734375,
          39399.40234375,
          34753.15234375,
          23022.21875,
          33379.421875,
          29861.544921875,
          28912.89453125,
          28627.259765625,
          37228.73828125,
          24491.392578125,
          26507.04296875,
          32691.87109375,
          28639.38671875,
          23196.216796875,
          32289.5390625,
          34830.8671875,
          31016.95703125,
          30268.70703125,
          40419.578125,
          37194.90234375,
          33345.16015625,
          31502.357421875,
          26343.681640625,
          32561.02734375,
          23858.603515625,
          36008.7265625,
          30155.33203125,
          26312.376953125,
          16918.677734375,
          15177.3173828125,
          30950.107421875,
          23748.677734375,
          23392.947265625,
          35023.2109375,
          29240.513671875,
          35711.08203125,
          19785.998046875,
          32853.0625,
          30836.978515625,
          26023.5703125,
          27412.697265625,
          38543.6171875,
          32149.927734375,
          26228.380859375,
          34060.875,
          24819.36328125,
          31330.34765625,
          27758.388671875,
          28960.638671875,
          36813.765625,
          33203.84375,
          27456.912109375,
          31960.75390625,
          29210.5625,
          36260.3984375,
          26983.05078125,
          37939.71875,
          39941.23046875,
          30614.169921875,
          38938.1171875,
          23470.849609375,
          32322.91015625,
          26071.982421875,
          34360.48046875,
          24294.8125,
          14006.0029296875,
          25765.79296875,
          32307.9375,
          25328.076171875,
          32416.94140625,
          22105.037109375,
          30046.486328125,
          31911,
          22350.771484375,
          23967.009765625,
          30148.6875,
          41298.62890625,
          25363.921875,
          25732.349609375,
          23032.681640625,
          38847.1640625,
          15764.494140625,
          32345.7109375,
          31045.216796875,
          31361.083984375,
          31253.470703125,
          32210.978515625,
          35758.2734375,
          35579.19921875,
          19295.26953125,
          21973.310546875,
          22258.611328125,
          22393.41796875,
          40673.859375,
          31614.447265625,
          25474.408203125,
          32912.89453125,
          35187.91015625,
          24827.984375,
          40849.48046875,
          30584.12109375,
          30949.634765625,
          24613.75390625,
          26298.15234375,
          38869.6484375,
          39513.26953125,
          32572.75,
          22224.55859375,
          32797.64453125,
          21900.787109375,
          25938.05078125,
          25376.697265625,
          19017.171875,
          24706.1328125
         ],
         "xaxis": "x",
         "y": [
          -5108.28515625,
          -4653.57568359375,
          -4542.18359375,
          -4194.11572265625,
          -3786.135986328125,
          -4006.8837890625,
          -4387.408203125,
          -4400.0458984375,
          -4611.59130859375,
          -4339.70947265625,
          -6415.70361328125,
          -6141.7666015625,
          -6099.9306640625,
          -4804.20751953125,
          -5079.5439453125,
          -4807.6689453125,
          -5560.2080078125,
          -5202.09423828125,
          -4008.59228515625,
          -4439.1259765625,
          -4139.05517578125,
          -4210.49462890625,
          -5224.5576171875,
          -3324.81884765625,
          -4575.541015625,
          -3378.546630859375,
          -5484.677734375,
          -6066.4609375,
          -3130.952880859375,
          -5613.71826171875,
          -3634.343994140625,
          -5377.232421875,
          -4865.0078125,
          -4917.67919921875,
          -6642.23828125,
          -4030.4892578125,
          -6080.3037109375,
          -5081.20947265625,
          -3863.009765625,
          -5658.5322265625,
          -4858.0009765625,
          -6111.7099609375,
          -6491.849609375,
          -4286.408203125,
          -2877.197021484375,
          4253.671875,
          -6274.40380859375,
          -4085.390380859375,
          -5117.9306640625,
          -4416.580078125,
          -5240.71435546875,
          -4543.484375,
          -4699.39501953125,
          -5910.599609375,
          -4248.41357421875,
          -7172.337890625,
          -5970.66357421875,
          -7198.06689453125,
          -5508.94921875,
          -4266.48779296875,
          -5075.681640625,
          -6443.12158203125,
          -5635.16796875,
          -3524.604736328125,
          -5439.90576171875,
          -4615.46533203125,
          -6552.896484375,
          -4868.3154296875,
          -7950.14404296875,
          -6286.36279296875,
          -3890.347412109375,
          -2897.4208984375,
          -4683.443359375,
          -5237.498046875,
          -4762.4384765625,
          -4443.1728515625,
          -4720.251953125,
          -3681.293701171875,
          -4687.767578125,
          -5038.8193359375,
          -3156.177734375,
          -1775.606689453125,
          -4647.5185546875,
          -3401.083984375,
          -4507.82177734375,
          -3316.876708984375,
          -4346.1904296875,
          -2733.111572265625,
          -2672.913818359375,
          -5405.19580078125,
          -5918.69921875,
          -3727.644287109375,
          -6422.06884765625,
          -6518.88232421875,
          -4846.28369140625,
          -5461.18310546875,
          -8209.6435546875,
          -2149.154541015625,
          -2201.722900390625,
          -4354.88330078125,
          -4837.59326171875,
          -4792.82373046875,
          -5806.3662109375,
          -4122.474609375,
          -6195.259765625,
          -3266.652587890625,
          -5227.9765625,
          -5195.9287109375,
          -5150.7509765625,
          -5771.83154296875,
          -3948.416748046875,
          -4541.1650390625,
          -4588.66796875,
          -4164.86083984375,
          -5088.61181640625,
          -5591.4345703125,
          -5198.65576171875,
          -4397.2001953125,
          -3288.467041015625,
          -5023.04296875,
          -4117.83837890625,
          -4805.68505859375,
          -6711.01025390625,
          -5737.01806640625,
          -5654.5517578125,
          -5234.91845703125,
          -4054.255126953125,
          -3922.33203125,
          -4587.0595703125,
          -6304.29150390625
         ],
         "yaxis": "y"
        },
        {
         "customdata": [
          [
           88
          ],
          [
           85
          ],
          [
           95
          ],
          [
           89
          ],
          [
           82
          ],
          [
           87
          ],
          [
           89
          ],
          [
           84
          ],
          [
           87
          ],
          [
           91
          ],
          [
           91
          ],
          [
           87
          ],
          [
           86
          ],
          [
           94
          ],
          [
           88
          ],
          [
           90
          ],
          [
           89
          ],
          [
           86
          ],
          [
           85
          ],
          [
           87
          ],
          [
           86
          ],
          [
           89
          ],
          [
           88
          ],
          [
           87
          ],
          [
           86
          ],
          [
           88
          ],
          [
           90
          ],
          [
           92
          ],
          [
           84
          ],
          [
           91
          ],
          [
           81
          ],
          [
           84
          ],
          [
           91
          ],
          [
           91
          ],
          [
           82
          ],
          [
           88
          ],
          [
           94
          ],
          [
           86
          ],
          [
           94
          ],
          [
           82
          ],
          [
           79
          ],
          [
           90
          ],
          [
           83
          ],
          [
           88
          ],
          [
           87
          ],
          [
           85
          ],
          [
           89
          ],
          [
           84
          ],
          [
           91
          ],
          [
           91
          ],
          [
           85
          ],
          [
           92
          ],
          [
           87
          ],
          [
           84
          ],
          [
           89
          ],
          [
           91
          ],
          [
           90
          ],
          [
           91
          ],
          [
           83
          ],
          [
           93
          ],
          [
           83
          ],
          [
           88
          ],
          [
           86
          ],
          [
           89
          ],
          [
           93
          ],
          [
           91
          ],
          [
           91
          ],
          [
           83
          ],
          [
           87
          ],
          [
           90
          ],
          [
           83
          ],
          [
           83
          ],
          [
           83
          ],
          [
           92
          ],
          [
           86
          ],
          [
           84
          ],
          [
           91
          ],
          [
           91
          ],
          [
           94
          ],
          [
           87
          ],
          [
           88
          ],
          [
           85
          ],
          [
           87
          ],
          [
           94
          ],
          [
           92
          ],
          [
           88
          ],
          [
           88
          ],
          [
           83
          ],
          [
           89
          ],
          [
           90
          ],
          [
           84
          ],
          [
           90
          ],
          [
           93
          ],
          [
           87
          ],
          [
           91
          ],
          [
           87
          ],
          [
           83
          ],
          [
           84
          ],
          [
           87
          ],
          [
           92
          ],
          [
           87
          ],
          [
           87
          ],
          [
           82
          ],
          [
           91
          ],
          [
           97
          ],
          [
           92
          ],
          [
           91
          ],
          [
           90
          ],
          [
           90
          ],
          [
           84
          ],
          [
           84
          ],
          [
           88
          ],
          [
           86
          ],
          [
           84
          ],
          [
           90
          ],
          [
           83
          ],
          [
           91
          ],
          [
           86
          ],
          [
           89
          ],
          [
           88
          ],
          [
           87
          ],
          [
           85
          ],
          [
           82
          ],
          [
           89
          ],
          [
           79
          ],
          [
           88
          ],
          [
           89
          ],
          [
           90
          ],
          [
           88
          ],
          [
           85
          ],
          [
           85
          ],
          [
           85
          ],
          [
           91
          ],
          [
           92
          ],
          [
           88
          ],
          [
           85
          ],
          [
           92
          ],
          [
           87
          ],
          [
           89
          ],
          [
           94
          ],
          [
           84
          ],
          [
           87
          ],
          [
           84
          ],
          [
           88
          ],
          [
           94
          ],
          [
           88
          ],
          [
           85
          ]
         ],
         "hovertemplate": "Cluster=Cluster 1<br>PCA1=%{x}<br>PCA2=%{y}<br>Feature=%{customdata[0]}<extra></extra>",
         "legendgroup": "Cluster 1",
         "marker": {
          "color": "#EF553B",
          "opacity": 0.5,
          "symbol": "circle"
         },
         "mode": "markers",
         "name": "Cluster 1",
         "orientation": "v",
         "showlegend": true,
         "textposition": "top center",
         "type": "scatter",
         "x": [
          -49206.06640625,
          -54413.14453125,
          -48754.55078125,
          -50446.68359375,
          -43231.46875,
          -63656.34375,
          -55368.97265625,
          -48469.7578125,
          -51191.171875,
          -39063.28515625,
          -63634.71484375,
          -49952.5625,
          -43811.46875,
          -36822.87890625,
          -42594.23828125,
          -53514.359375,
          -49610.671875,
          -28705.208984375,
          -47927.75390625,
          -45504.921875,
          -46897.28125,
          -56491.72265625,
          -53103.84375,
          -50055.77734375,
          -56854.2421875,
          -48459.57421875,
          -50029.04296875,
          -53329.08984375,
          -53484.984375,
          -49274.4375,
          -41272.890625,
          -48254.0078125,
          -55116.8359375,
          -58771.328125,
          -51459.5078125,
          -57750.75,
          -48448.18359375,
          -39916.58984375,
          -56820.07421875,
          -42172.0859375,
          -37510.58203125,
          -42253.8671875,
          -48890.15625,
          -43012.765625,
          -44821.265625,
          -46206.7578125,
          -42432.640625,
          -48329.37109375,
          -47000.1640625,
          -48496.83984375,
          -46522.9140625,
          -39882.01953125,
          -28723.990234375,
          -37730.765625,
          -48762.359375,
          -50504.8203125,
          -45508.34765625,
          -46108.55859375,
          -45148.0546875,
          -58127.49609375,
          -57495.81640625,
          -56178.6640625,
          -39708.640625,
          -45316.57421875,
          -55300.44140625,
          -51304.41796875,
          -48867.3359375,
          -47072.82421875,
          -52350.12890625,
          -42485.19140625,
          -42546.30078125,
          -52508.29296875,
          -45053.49609375,
          -53120.54296875,
          -48031.59765625,
          -57516.265625,
          -49855.35546875,
          -38870.671875,
          -51858.953125,
          -49618.5625,
          -42334.04296875,
          -53905.3203125,
          -49083.98828125,
          -47366.64453125,
          -40276.4453125,
          -44316.38671875,
          -46888.3984375,
          -41183.64453125,
          -51006.62109375,
          -46621.671875,
          -55003.11328125,
          -40392.515625,
          -55837.890625,
          -57945.2890625,
          -44891.72265625,
          -33223.78515625,
          -41229.078125,
          -48086.46875,
          -45889.15234375,
          -39730.75390625,
          -44207.36328125,
          -52745.26953125,
          -42152.5,
          -52957.6171875,
          -48338.69921875,
          -56895.33203125,
          -47591.22265625,
          -52877.37109375,
          -38257.0078125,
          -45243.3359375,
          -51590.96875,
          -57888.98046875,
          -52219.78515625,
          -39255.47265625,
          -51240.7890625,
          -47148.04296875,
          -45489.1171875,
          -60035.34765625,
          -44680.88671875,
          -47339.9453125,
          -59885.1796875,
          -41090.4296875,
          -51335.69140625,
          -53680.71484375,
          -43219.5703125,
          -58306.890625,
          -47490.05078125,
          -42382.6953125,
          -40724.15234375,
          -44945.6953125,
          -47271.41015625,
          -40907.24609375,
          -46752.16796875,
          -42805.16796875,
          -49640.51171875,
          -47211.3046875,
          -42194.79296875,
          -57176.859375,
          -41047.37109375,
          -47975.62890625,
          -46294.6953125,
          -45592.66015625,
          -33685.8203125,
          -41654.28125,
          -54957.48828125,
          -47129.83984375,
          -49427.5234375
         ],
         "xaxis": "x",
         "y": [
          646.54296875,
          -1055.9981689453125,
          -3476.760009765625,
          -1789.831787109375,
          -2464.367919921875,
          -672.1318969726562,
          -990.608642578125,
          -975.0125122070312,
          -2999.051025390625,
          -2178.95263671875,
          -958.5382080078125,
          -1016.3641357421875,
          -3844.052978515625,
          -3004.137939453125,
          -4573.13916015625,
          -3511.6533203125,
          -2494.348388671875,
          -2125.518310546875,
          1139.067626953125,
          -1656.42626953125,
          -1500.6014404296875,
          -1529.951416015625,
          -1838.6663818359375,
          -458.73370361328125,
          -1039.88818359375,
          -623.026123046875,
          -2907.7998046875,
          -3704.117919921875,
          -2964.873291015625,
          -1819.142822265625,
          -2039.0543212890625,
          -3586.39501953125,
          -3386.63330078125,
          -1946.4273681640625,
          -1443.6334228515625,
          -1546.787841796875,
          -424.49554443359375,
          -5860.41015625,
          -2626.496337890625,
          -3482.95263671875,
          -2385.93359375,
          -2813.411376953125,
          -3117.04638671875,
          -2388.39990234375,
          -809.2490844726562,
          -3972.440673828125,
          -2804.3203125,
          -2106.957763671875,
          -3258.5947265625,
          -1255.024169921875,
          -2395.153564453125,
          -3145.840087890625,
          -1283.25048828125,
          -3447.525146484375,
          -1902.3062744140625,
          -2541.10546875,
          -1716.097900390625,
          -4704.90283203125,
          -918.4451293945312,
          -3329.426025390625,
          -874.5950927734375,
          -1450.73388671875,
          -2812.642822265625,
          72.34140014648438,
          -2379.447265625,
          -1341.6435546875,
          -3330.09765625,
          -3652.14501953125,
          -1271.8377685546875,
          -1573.1312255859375,
          -2323.956298828125,
          -2003.3819580078125,
          -3267.85546875,
          -2373.90966796875,
          -2520.880859375,
          -2662.239501953125,
          -2551.642578125,
          -4966.63525390625,
          -1998.315673828125,
          -1200.5001220703125,
          -946.4432983398438,
          776.7207641601562,
          -2706.95556640625,
          -2226.526123046875,
          -3159.4052734375,
          -1681.1097412109375,
          -1747.2857666015625,
          -2299.179931640625,
          1229.6343994140625,
          -1061.39404296875,
          -1806.3734130859375,
          -1918.072998046875,
          -2913.15283203125,
          -1690.2255859375,
          -1059.5113525390625,
          -4327.6025390625,
          -559.8898315429688,
          -3267.666748046875,
          -3656.862060546875,
          -3215.313720703125,
          -1788.596923828125,
          -3270.25146484375,
          -3595.4296875,
          -512.1687622070312,
          -296.9493408203125,
          -219.836181640625,
          -2876.01904296875,
          -1034.04736328125,
          -3209.707763671875,
          -2386.74609375,
          -1709.682373046875,
          -2297.412841796875,
          -361.8238830566406,
          -2456.06494140625,
          -337.58404541015625,
          -948.1720581054688,
          -857.2371826171875,
          -2067.7861328125,
          -3320.241455078125,
          -2756.212646484375,
          968.1814575195312,
          -2507.470947265625,
          -2253.326171875,
          -1523.155029296875,
          -982.6387939453125,
          -1498.3084716796875,
          -1025.6566162109375,
          -1026.2188720703125,
          -3403.3564453125,
          -2663.43798828125,
          -1422.2650146484375,
          -2247.725830078125,
          -4260.67138671875,
          -2383.926025390625,
          -2403.45361328125,
          -497.0298156738281,
          -2831.24755859375,
          -500.38336181640625,
          163.0077667236328,
          -2697.482177734375,
          -3445.143798828125,
          -1858.742919921875,
          -2359.982666015625,
          -1284.278076171875,
          -1273.0350341796875,
          -2166.947265625,
          -3282.499267578125
         ],
         "yaxis": "y"
        },
        {
         "customdata": [
          [
           67
          ],
          [
           59
          ],
          [
           58
          ],
          [
           59
          ],
          [
           59
          ],
          [
           56
          ],
          [
           67
          ],
          [
           65
          ],
          [
           58
          ],
          [
           57
          ],
          [
           60
          ],
          [
           57
          ],
          [
           66
          ],
          [
           61
          ],
          [
           59
          ],
          [
           65
          ],
          [
           65
          ],
          [
           56
          ],
          [
           64
          ],
          [
           59
          ],
          [
           58
          ],
          [
           58
          ],
          [
           63
          ],
          [
           60
          ],
          [
           60
          ],
          [
           61
          ],
          [
           61
          ],
          [
           59
          ],
          [
           67
          ],
          [
           61
          ],
          [
           59
          ],
          [
           56
          ],
          [
           61
          ],
          [
           55
          ],
          [
           57
          ],
          [
           61
          ],
          [
           51
          ],
          [
           55
          ],
          [
           63
          ],
          [
           58
          ],
          [
           58
          ],
          [
           62
          ],
          [
           60
          ],
          [
           62
          ],
          [
           68
          ],
          [
           59
          ],
          [
           63
          ],
          [
           58
          ],
          [
           62
          ],
          [
           58
          ],
          [
           62
          ],
          [
           66
          ],
          [
           57
          ],
          [
           66
          ],
          [
           63
          ],
          [
           64
          ],
          [
           62
          ],
          [
           62
          ],
          [
           60
          ],
          [
           65
          ],
          [
           60
          ],
          [
           63
          ],
          [
           56
          ],
          [
           60
          ],
          [
           58
          ],
          [
           62
          ],
          [
           56
          ],
          [
           59
          ],
          [
           65
          ],
          [
           62
          ],
          [
           59
          ],
          [
           66
          ],
          [
           64
          ],
          [
           62
          ],
          [
           61
          ],
          [
           56
          ],
          [
           62
          ],
          [
           60
          ],
          [
           62
          ],
          [
           59
          ],
          [
           64
          ],
          [
           58
          ],
          [
           56
          ],
          [
           59
          ],
          [
           62
          ],
          [
           59
          ],
          [
           54
          ],
          [
           61
          ],
          [
           55
          ],
          [
           53
          ],
          [
           55
          ],
          [
           61
          ],
          [
           59
          ],
          [
           59
          ],
          [
           56
          ],
          [
           61
          ],
          [
           61
          ],
          [
           63
          ],
          [
           60
          ],
          [
           61
          ],
          [
           55
          ],
          [
           53
          ],
          [
           61
          ],
          [
           64
          ],
          [
           62
          ],
          [
           55
          ],
          [
           58
          ],
          [
           57
          ],
          [
           59
          ],
          [
           58
          ],
          [
           59
          ],
          [
           64
          ],
          [
           58
          ],
          [
           57
          ],
          [
           63
          ],
          [
           57
          ],
          [
           58
          ],
          [
           63
          ],
          [
           62
          ],
          [
           59
          ],
          [
           67
          ],
          [
           58
          ],
          [
           58
          ],
          [
           57
          ],
          [
           66
          ],
          [
           64
          ],
          [
           59
          ],
          [
           59
          ],
          [
           59
          ],
          [
           59
          ],
          [
           68
          ],
          [
           58
          ],
          [
           61
          ],
          [
           61
          ],
          [
           57
          ],
          [
           57
          ],
          [
           55
          ],
          [
           64
          ],
          [
           64
          ],
          [
           56
          ],
          [
           63
          ],
          [
           60
          ],
          [
           61
          ],
          [
           53
          ],
          [
           56
          ],
          [
           61
          ],
          [
           59
          ],
          [
           60
          ],
          [
           58
          ],
          [
           58
          ],
          [
           55
          ],
          [
           56
          ],
          [
           62
          ],
          [
           56
          ],
          [
           61
          ],
          [
           59
          ]
         ],
         "hovertemplate": "Cluster=Cluster 2<br>PCA1=%{x}<br>PCA2=%{y}<br>Feature=%{customdata[0]}<extra></extra>",
         "legendgroup": "Cluster 2",
         "marker": {
          "color": "#00cc96",
          "opacity": 0.5,
          "symbol": "circle"
         },
         "mode": "markers",
         "name": "Cluster 2",
         "orientation": "v",
         "showlegend": true,
         "textposition": "top center",
         "type": "scatter",
         "x": [
          3574.8671875,
          -1709.0052490234375,
          -6075.72216796875,
          5619.1259765625,
          -2220.634033203125,
          -1755.364501953125,
          5679.9345703125,
          -4114.6650390625,
          -4883.71875,
          -10371.4853515625,
          -5149.41259765625,
          4615.60498046875,
          1855.0482177734375,
          -967.13330078125,
          7017.4072265625,
          -4794.72900390625,
          -811.2726440429688,
          5122.28369140625,
          -12402.611328125,
          -7981.74462890625,
          2868.676025390625,
          4968.765625,
          7034.56689453125,
          -9176.9375,
          -805.5170288085938,
          -6214.35400390625,
          -7827.501953125,
          -7225.65478515625,
          -6586.37353515625,
          -9270.9814453125,
          -1864.5926513671875,
          -9823.2900390625,
          3607.622314453125,
          1547.9140625,
          -3147.9697265625,
          -3197.769287109375,
          -3127.744140625,
          -10419.6484375,
          -4661.64208984375,
          3333.03759765625,
          -4588.84326171875,
          -1424.296142578125,
          -11770.0947265625,
          -7431.1669921875,
          -6270.12890625,
          -5787.5830078125,
          -7793.21044921875,
          2555.7822265625,
          -5898.7431640625,
          -5327.51025390625,
          -1710.008056640625,
          -2630.793701171875,
          1381.293701171875,
          -10238.837890625,
          -2329.615966796875,
          -3536.623779296875,
          -11570.0126953125,
          -12594.1728515625,
          -3881.27734375,
          -9447.564453125,
          -4595.7236328125,
          5567.47802734375,
          9121.2099609375,
          4848.4423828125,
          499.4979553222656,
          -4176.72119140625,
          -6529.595703125,
          -7423.92626953125,
          -9153.990234375,
          4864.6845703125,
          -7249.02685546875,
          7325.2548828125,
          1198.2158203125,
          -6945.48779296875,
          -5628.9814453125,
          -6874.44384765625,
          3175.730712890625,
          -10072.8740234375,
          -5806.0751953125,
          -6051.79638671875,
          11039.025390625,
          -4972.919921875,
          11129.4248046875,
          6644.59814453125,
          -611.8908081054688,
          -879.69482421875,
          1270.59423828125,
          -3354.408203125,
          -3652.0498046875,
          1535.321533203125,
          3442.069091796875,
          1691.1478271484375,
          -9514.740234375,
          -5495.92822265625,
          -11393.26171875,
          -1006.7933959960938,
          -11385.8056640625,
          10499.4072265625,
          -5228.771484375,
          -2009.7073974609375,
          -847.2985229492188,
          -13124.388671875,
          -6112.7001953125,
          -14757.6240234375,
          -5414.4501953125,
          -4197.99365234375,
          -907.6675415039062,
          4241.77685546875,
          -2601.8681640625,
          1797.87060546875,
          -860.4337158203125,
          13091.3740234375,
          -4333.3515625,
          106.44878387451172,
          -5414.8486328125,
          -1148.59130859375,
          834.6076049804688,
          -182.87429809570312,
          -12401.0107421875,
          384.48956298828125,
          -15876.0126953125,
          2392.952392578125,
          -4856.15869140625,
          -9604.97265625,
          -3578.640380859375,
          3594.04248046875,
          -5713.302734375,
          -7793.4521484375,
          -18832.318359375,
          277.3205871582031,
          2456.11474609375,
          3385.82275390625,
          -1867.4996337890625,
          -4025.533447265625,
          -5506.5029296875,
          1380.9107666015625,
          -1254.79443359375,
          1223.3336181640625,
          -10817.513671875,
          375.6135559082031,
          -18377.078125,
          -7740.90380859375,
          -9600.0068359375,
          -284.9325256347656,
          -15159.8974609375,
          -4335.11962890625,
          -3902.649169921875,
          -9955.59765625,
          8122.07958984375,
          5073.48828125,
          871.0576782226562,
          3735.2236328125,
          -8175.94287109375,
          -7927.27685546875,
          -3222.02734375,
          2663.81494140625
         ],
         "xaxis": "x",
         "y": [
          6638.19189453125,
          3684.6962890625,
          3500.597412109375,
          4314.80517578125,
          4177.14111328125,
          4273.2060546875,
          4711.287109375,
          3078.896728515625,
          4688.3720703125,
          6211.2763671875,
          5556.66796875,
          5713.44384765625,
          5468.74560546875,
          4638.72509765625,
          5588.80224609375,
          5174.4716796875,
          4771.51708984375,
          3424.073974609375,
          4277.4208984375,
          3467.56689453125,
          5223.64453125,
          3943.1181640625,
          3374.28759765625,
          7146.66455078125,
          4348.0966796875,
          8154.20458984375,
          5701.69970703125,
          4564.61865234375,
          4795.66064453125,
          5996.55126953125,
          5267.3544921875,
          6862.2490234375,
          4852.44580078125,
          3973.907470703125,
          5506.998046875,
          5127.951171875,
          5318.28369140625,
          5982.8603515625,
          4875.4140625,
          4012.216064453125,
          4468.26904296875,
          7267.33056640625,
          5001.421875,
          6342.0390625,
          5401.82373046875,
          5711.6298828125,
          6334.24462890625,
          5164.68310546875,
          5205.841796875,
          5507.67626953125,
          5692.09326171875,
          5512.81201171875,
          5207.22265625,
          7423.31787109375,
          6502.2099609375,
          5070.4150390625,
          6393.5869140625,
          5058.59423828125,
          3532.751220703125,
          6026.373046875,
          4575.31591796875,
          6399.6826171875,
          4076.1904296875,
          6716.390625,
          4450.5732421875,
          5121.94970703125,
          5174.06201171875,
          5595.4267578125,
          6237.45703125,
          4834.9560546875,
          5030.10302734375,
          5245.751953125,
          6031.60009765625,
          5240.28515625,
          3413.462158203125,
          3266.470947265625,
          4727.08056640625,
          7033.83447265625,
          5686.1337890625,
          6221.685546875,
          4384.6884765625,
          5053.9765625,
          2451.396240234375,
          6074.1123046875,
          2642.85693359375,
          4574.03076171875,
          4918.8623046875,
          4039.051025390625,
          4298.14892578125,
          6617.1455078125,
          3293.9267578125,
          4305.6064453125,
          5484.06396484375,
          5033.9287109375,
          4760.72900390625,
          6827.73876953125,
          5239.83642578125,
          4092.587890625,
          4906.82275390625,
          4571.31298828125,
          5435.2958984375,
          5122.2998046875,
          7150.26953125,
          5008.013671875,
          6401.49853515625,
          4646.4248046875,
          4662.5732421875,
          4854.375,
          5720.06591796875,
          3616.9072265625,
          1366.217041015625,
          3878.075439453125,
          6791.1240234375,
          5019.54736328125,
          4509.3798828125,
          6154.52001953125,
          5141.10302734375,
          4411.32568359375,
          6731.625,
          6845.14453125,
          7337.46484375,
          5992.685546875,
          6861.84423828125,
          5517.458984375,
          4687.3330078125,
          5244.2265625,
          6098.4091796875,
          5788.85595703125,
          6823.25537109375,
          5152.0791015625,
          5539.97998046875,
          4513.16015625,
          2685.663818359375,
          5644.55419921875,
          6298.4326171875,
          5567.115234375,
          6380.91845703125,
          5666.36962890625,
          6677.48388671875,
          5049.607421875,
          5086.3759765625,
          5133.6416015625,
          4923.283203125,
          4064.00927734375,
          5573.24609375,
          2658.2978515625,
          5499.34130859375,
          4085.313232421875,
          4731.0126953125,
          5244.4384765625,
          5689.00244140625,
          4370.46923828125,
          5599.27734375,
          5673.52978515625,
          4129.1826171875,
          3399.12060546875
         ],
         "yaxis": "y"
        },
        {
         "customdata": [
          [
           18
          ],
          [
           85
          ],
          [
           27
          ],
          [
           28
          ],
          [
           25
          ],
          [
           83
          ],
          [
           18
          ],
          [
           26
          ],
          [
           32
          ],
          [
           89
          ],
          [
           20
          ],
          [
           88
          ],
          [
           30
          ],
          [
           26
          ],
          [
           17
          ],
          [
           92
          ],
          [
           23
          ],
          [
           22
          ],
          [
           20
          ],
          [
           22
          ],
          [
           90
          ],
          [
           25
          ],
          [
           17
          ],
          [
           24
          ],
          [
           29
          ],
          [
           84
          ],
          [
           25
          ],
          [
           83
          ],
          [
           31
          ],
          [
           21
          ],
          [
           28
          ],
          [
           24
          ],
          [
           82
          ],
          [
           26
          ],
          [
           28
          ],
          [
           23
          ],
          [
           26
          ],
          [
           26
          ],
          [
           29
          ],
          [
           21
          ],
          [
           86
          ],
          [
           23
          ],
          [
           25
          ],
          [
           24
          ],
          [
           87
          ],
          [
           28
          ],
          [
           20
          ],
          [
           27
          ],
          [
           86
          ],
          [
           82
          ],
          [
           22
          ],
          [
           25
          ],
          [
           91
          ],
          [
           17
          ],
          [
           93
          ],
          [
           34
          ],
          [
           29
          ],
          [
           77
          ],
          [
           27
          ],
          [
           28
          ],
          [
           83
          ],
          [
           29
          ],
          [
           24
          ],
          [
           24
          ],
          [
           17
          ],
          [
           28
          ],
          [
           25
          ],
          [
           90
          ],
          [
           24
          ],
          [
           23
          ],
          [
           24
          ],
          [
           88
          ]
         ],
         "hovertemplate": "Cluster=Cluster 3<br>PCA1=%{x}<br>PCA2=%{y}<br>Feature=%{customdata[0]}<extra></extra>",
         "legendgroup": "Cluster 3",
         "marker": {
          "color": "#ab63fa",
          "opacity": 0.5,
          "symbol": "circle"
         },
         "mode": "markers",
         "name": "Cluster 3",
         "orientation": "v",
         "showlegend": true,
         "textposition": "top center",
         "type": "scatter",
         "x": [
          48551.89453125,
          42414.1328125,
          46271.75,
          48029.234375,
          62912.453125,
          43629.01171875,
          55587.3515625,
          56651.44921875,
          41328.25390625,
          43861.73828125,
          53899.23046875,
          44952.8984375,
          47549.76171875,
          47842.8828125,
          59798.171875,
          47182.0625,
          51395.21875,
          57857.27734375,
          47415.390625,
          58984.546875,
          48410,
          55168.4453125,
          59803.04296875,
          53976.79296875,
          56449.68359375,
          46993.6328125,
          53422.5546875,
          41580.265625,
          47836.4453125,
          48602.56640625,
          52465.02734375,
          52263.48828125,
          50433.84375,
          51532.47265625,
          46000.80078125,
          63317.06640625,
          52086.37890625,
          50397.078125,
          43600.21484375,
          54542.55078125,
          52679.125,
          54778.9140625,
          45728.3984375,
          59239.8515625,
          41859.1484375,
          48281.95703125,
          54230.3125,
          49923.23046875,
          48577.23828125,
          45920.30078125,
          45302.56640625,
          55809.60546875,
          43084.421875,
          48697.328125,
          50874.5859375,
          44074.74609375,
          47210.609375,
          52844.20703125,
          47518.8828125,
          53924.59375,
          42157.796875,
          66750.609375,
          45280.296875,
          61617.25,
          61085.15625,
          41933.87109375,
          55783.42578125,
          42045.7890625,
          55795.99609375,
          45049.7109375,
          59196.59765625,
          47964.546875
         ],
         "xaxis": "x",
         "y": [
          4668.2158203125,
          -5432.28515625,
          4207.41552734375,
          5422.3251953125,
          5261.357421875,
          -6254.84423828125,
          3427.1357421875,
          4271.2939453125,
          -4823.64892578125,
          -6877.04052734375,
          3176.74755859375,
          -4985.517578125,
          3437.8974609375,
          4758.18994140625,
          4315.751953125,
          -4557.71875,
          5657.244140625,
          5717.50390625,
          4709.3896484375,
          3350.71240234375,
          -5693.66845703125,
          4016.982421875,
          8450.310546875,
          5488.39111328125,
          5101.39990234375,
          -4647.13232421875,
          3894.235595703125,
          -5615.56396484375,
          6059.9853515625,
          6249.5380859375,
          3371.53369140625,
          5916.35986328125,
          -6854.208984375,
          6006.7353515625,
          3884.45361328125,
          4946.1796875,
          3388.427978515625,
          2890.5517578125,
          -5657.482421875,
          4193.88427734375,
          -4749.0595703125,
          4629.79248046875,
          3658.306640625,
          4745.14599609375,
          -4543.3291015625,
          8499.9697265625,
          3238.429443359375,
          6048.7265625,
          -6305.31103515625,
          -4953.9248046875,
          3778.182373046875,
          3879.150146484375,
          -4660.857421875,
          5282.4990234375,
          -5178.05615234375,
          -6307.67333984375,
          6674.236328125,
          -5677.6708984375,
          4942.0009765625,
          5765.84423828125,
          -5954.4580078125,
          2693.008544921875,
          4437.357421875,
          6726.31591796875,
          4243.72216796875,
          4717.99853515625,
          4732.087890625,
          -3106.10498046875,
          4252.89794921875,
          4590.873046875,
          3903.975341796875,
          -4397.1884765625
         ],
         "yaxis": "y"
        }
       ],
       "layout": {
        "height": 600,
        "legend": {
         "title": {
          "text": "Cluster"
         },
         "tracegroupgap": 0
        },
        "margin": {
         "t": 60
        },
        "plot_bgcolor": "rgb(240,240,240)",
        "template": {
         "data": {
          "bar": [
           {
            "error_x": {
             "color": "#2a3f5f"
            },
            "error_y": {
             "color": "#2a3f5f"
            },
            "marker": {
             "line": {
              "color": "#E5ECF6",
              "width": 0.5
             }
            },
            "type": "bar"
           }
          ],
          "barpolar": [
           {
            "marker": {
             "line": {
              "color": "#E5ECF6",
              "width": 0.5
             }
            },
            "type": "barpolar"
           }
          ],
          "carpet": [
           {
            "aaxis": {
             "endlinecolor": "#2a3f5f",
             "gridcolor": "white",
             "linecolor": "white",
             "minorgridcolor": "white",
             "startlinecolor": "#2a3f5f"
            },
            "baxis": {
             "endlinecolor": "#2a3f5f",
             "gridcolor": "white",
             "linecolor": "white",
             "minorgridcolor": "white",
             "startlinecolor": "#2a3f5f"
            },
            "type": "carpet"
           }
          ],
          "choropleth": [
           {
            "colorbar": {
             "outlinewidth": 0,
             "ticks": ""
            },
            "type": "choropleth"
           }
          ],
          "contour": [
           {
            "colorbar": {
             "outlinewidth": 0,
             "ticks": ""
            },
            "colorscale": [
             [
              0,
              "#0d0887"
             ],
             [
              0.1111111111111111,
              "#46039f"
             ],
             [
              0.2222222222222222,
              "#7201a8"
             ],
             [
              0.3333333333333333,
              "#9c179e"
             ],
             [
              0.4444444444444444,
              "#bd3786"
             ],
             [
              0.5555555555555556,
              "#d8576b"
             ],
             [
              0.6666666666666666,
              "#ed7953"
             ],
             [
              0.7777777777777778,
              "#fb9f3a"
             ],
             [
              0.8888888888888888,
              "#fdca26"
             ],
             [
              1,
              "#f0f921"
             ]
            ],
            "type": "contour"
           }
          ],
          "contourcarpet": [
           {
            "colorbar": {
             "outlinewidth": 0,
             "ticks": ""
            },
            "type": "contourcarpet"
           }
          ],
          "heatmap": [
           {
            "colorbar": {
             "outlinewidth": 0,
             "ticks": ""
            },
            "colorscale": [
             [
              0,
              "#0d0887"
             ],
             [
              0.1111111111111111,
              "#46039f"
             ],
             [
              0.2222222222222222,
              "#7201a8"
             ],
             [
              0.3333333333333333,
              "#9c179e"
             ],
             [
              0.4444444444444444,
              "#bd3786"
             ],
             [
              0.5555555555555556,
              "#d8576b"
             ],
             [
              0.6666666666666666,
              "#ed7953"
             ],
             [
              0.7777777777777778,
              "#fb9f3a"
             ],
             [
              0.8888888888888888,
              "#fdca26"
             ],
             [
              1,
              "#f0f921"
             ]
            ],
            "type": "heatmap"
           }
          ],
          "heatmapgl": [
           {
            "colorbar": {
             "outlinewidth": 0,
             "ticks": ""
            },
            "colorscale": [
             [
              0,
              "#0d0887"
             ],
             [
              0.1111111111111111,
              "#46039f"
             ],
             [
              0.2222222222222222,
              "#7201a8"
             ],
             [
              0.3333333333333333,
              "#9c179e"
             ],
             [
              0.4444444444444444,
              "#bd3786"
             ],
             [
              0.5555555555555556,
              "#d8576b"
             ],
             [
              0.6666666666666666,
              "#ed7953"
             ],
             [
              0.7777777777777778,
              "#fb9f3a"
             ],
             [
              0.8888888888888888,
              "#fdca26"
             ],
             [
              1,
              "#f0f921"
             ]
            ],
            "type": "heatmapgl"
           }
          ],
          "histogram": [
           {
            "marker": {
             "colorbar": {
              "outlinewidth": 0,
              "ticks": ""
             }
            },
            "type": "histogram"
           }
          ],
          "histogram2d": [
           {
            "colorbar": {
             "outlinewidth": 0,
             "ticks": ""
            },
            "colorscale": [
             [
              0,
              "#0d0887"
             ],
             [
              0.1111111111111111,
              "#46039f"
             ],
             [
              0.2222222222222222,
              "#7201a8"
             ],
             [
              0.3333333333333333,
              "#9c179e"
             ],
             [
              0.4444444444444444,
              "#bd3786"
             ],
             [
              0.5555555555555556,
              "#d8576b"
             ],
             [
              0.6666666666666666,
              "#ed7953"
             ],
             [
              0.7777777777777778,
              "#fb9f3a"
             ],
             [
              0.8888888888888888,
              "#fdca26"
             ],
             [
              1,
              "#f0f921"
             ]
            ],
            "type": "histogram2d"
           }
          ],
          "histogram2dcontour": [
           {
            "colorbar": {
             "outlinewidth": 0,
             "ticks": ""
            },
            "colorscale": [
             [
              0,
              "#0d0887"
             ],
             [
              0.1111111111111111,
              "#46039f"
             ],
             [
              0.2222222222222222,
              "#7201a8"
             ],
             [
              0.3333333333333333,
              "#9c179e"
             ],
             [
              0.4444444444444444,
              "#bd3786"
             ],
             [
              0.5555555555555556,
              "#d8576b"
             ],
             [
              0.6666666666666666,
              "#ed7953"
             ],
             [
              0.7777777777777778,
              "#fb9f3a"
             ],
             [
              0.8888888888888888,
              "#fdca26"
             ],
             [
              1,
              "#f0f921"
             ]
            ],
            "type": "histogram2dcontour"
           }
          ],
          "mesh3d": [
           {
            "colorbar": {
             "outlinewidth": 0,
             "ticks": ""
            },
            "type": "mesh3d"
           }
          ],
          "parcoords": [
           {
            "line": {
             "colorbar": {
              "outlinewidth": 0,
              "ticks": ""
             }
            },
            "type": "parcoords"
           }
          ],
          "pie": [
           {
            "automargin": true,
            "type": "pie"
           }
          ],
          "scatter": [
           {
            "marker": {
             "colorbar": {
              "outlinewidth": 0,
              "ticks": ""
             }
            },
            "type": "scatter"
           }
          ],
          "scatter3d": [
           {
            "line": {
             "colorbar": {
              "outlinewidth": 0,
              "ticks": ""
             }
            },
            "marker": {
             "colorbar": {
              "outlinewidth": 0,
              "ticks": ""
             }
            },
            "type": "scatter3d"
           }
          ],
          "scattercarpet": [
           {
            "marker": {
             "colorbar": {
              "outlinewidth": 0,
              "ticks": ""
             }
            },
            "type": "scattercarpet"
           }
          ],
          "scattergeo": [
           {
            "marker": {
             "colorbar": {
              "outlinewidth": 0,
              "ticks": ""
             }
            },
            "type": "scattergeo"
           }
          ],
          "scattergl": [
           {
            "marker": {
             "colorbar": {
              "outlinewidth": 0,
              "ticks": ""
             }
            },
            "type": "scattergl"
           }
          ],
          "scattermapbox": [
           {
            "marker": {
             "colorbar": {
              "outlinewidth": 0,
              "ticks": ""
             }
            },
            "type": "scattermapbox"
           }
          ],
          "scatterpolar": [
           {
            "marker": {
             "colorbar": {
              "outlinewidth": 0,
              "ticks": ""
             }
            },
            "type": "scatterpolar"
           }
          ],
          "scatterpolargl": [
           {
            "marker": {
             "colorbar": {
              "outlinewidth": 0,
              "ticks": ""
             }
            },
            "type": "scatterpolargl"
           }
          ],
          "scatterternary": [
           {
            "marker": {
             "colorbar": {
              "outlinewidth": 0,
              "ticks": ""
             }
            },
            "type": "scatterternary"
           }
          ],
          "surface": [
           {
            "colorbar": {
             "outlinewidth": 0,
             "ticks": ""
            },
            "colorscale": [
             [
              0,
              "#0d0887"
             ],
             [
              0.1111111111111111,
              "#46039f"
             ],
             [
              0.2222222222222222,
              "#7201a8"
             ],
             [
              0.3333333333333333,
              "#9c179e"
             ],
             [
              0.4444444444444444,
              "#bd3786"
             ],
             [
              0.5555555555555556,
              "#d8576b"
             ],
             [
              0.6666666666666666,
              "#ed7953"
             ],
             [
              0.7777777777777778,
              "#fb9f3a"
             ],
             [
              0.8888888888888888,
              "#fdca26"
             ],
             [
              1,
              "#f0f921"
             ]
            ],
            "type": "surface"
           }
          ],
          "table": [
           {
            "cells": {
             "fill": {
              "color": "#EBF0F8"
             },
             "line": {
              "color": "white"
             }
            },
            "header": {
             "fill": {
              "color": "#C8D4E3"
             },
             "line": {
              "color": "white"
             }
            },
            "type": "table"
           }
          ]
         },
         "layout": {
          "annotationdefaults": {
           "arrowcolor": "#2a3f5f",
           "arrowhead": 0,
           "arrowwidth": 1
          },
          "autotypenumbers": "strict",
          "coloraxis": {
           "colorbar": {
            "outlinewidth": 0,
            "ticks": ""
           }
          },
          "colorscale": {
           "diverging": [
            [
             0,
             "#8e0152"
            ],
            [
             0.1,
             "#c51b7d"
            ],
            [
             0.2,
             "#de77ae"
            ],
            [
             0.3,
             "#f1b6da"
            ],
            [
             0.4,
             "#fde0ef"
            ],
            [
             0.5,
             "#f7f7f7"
            ],
            [
             0.6,
             "#e6f5d0"
            ],
            [
             0.7,
             "#b8e186"
            ],
            [
             0.8,
             "#7fbc41"
            ],
            [
             0.9,
             "#4d9221"
            ],
            [
             1,
             "#276419"
            ]
           ],
           "sequential": [
            [
             0,
             "#0d0887"
            ],
            [
             0.1111111111111111,
             "#46039f"
            ],
            [
             0.2222222222222222,
             "#7201a8"
            ],
            [
             0.3333333333333333,
             "#9c179e"
            ],
            [
             0.4444444444444444,
             "#bd3786"
            ],
            [
             0.5555555555555556,
             "#d8576b"
            ],
            [
             0.6666666666666666,
             "#ed7953"
            ],
            [
             0.7777777777777778,
             "#fb9f3a"
            ],
            [
             0.8888888888888888,
             "#fdca26"
            ],
            [
             1,
             "#f0f921"
            ]
           ],
           "sequentialminus": [
            [
             0,
             "#0d0887"
            ],
            [
             0.1111111111111111,
             "#46039f"
            ],
            [
             0.2222222222222222,
             "#7201a8"
            ],
            [
             0.3333333333333333,
             "#9c179e"
            ],
            [
             0.4444444444444444,
             "#bd3786"
            ],
            [
             0.5555555555555556,
             "#d8576b"
            ],
            [
             0.6666666666666666,
             "#ed7953"
            ],
            [
             0.7777777777777778,
             "#fb9f3a"
            ],
            [
             0.8888888888888888,
             "#fdca26"
            ],
            [
             1,
             "#f0f921"
            ]
           ]
          },
          "colorway": [
           "#636efa",
           "#EF553B",
           "#00cc96",
           "#ab63fa",
           "#FFA15A",
           "#19d3f3",
           "#FF6692",
           "#B6E880",
           "#FF97FF",
           "#FECB52"
          ],
          "font": {
           "color": "#2a3f5f"
          },
          "geo": {
           "bgcolor": "white",
           "lakecolor": "white",
           "landcolor": "#E5ECF6",
           "showlakes": true,
           "showland": true,
           "subunitcolor": "white"
          },
          "hoverlabel": {
           "align": "left"
          },
          "hovermode": "closest",
          "mapbox": {
           "style": "light"
          },
          "paper_bgcolor": "white",
          "plot_bgcolor": "#E5ECF6",
          "polar": {
           "angularaxis": {
            "gridcolor": "white",
            "linecolor": "white",
            "ticks": ""
           },
           "bgcolor": "#E5ECF6",
           "radialaxis": {
            "gridcolor": "white",
            "linecolor": "white",
            "ticks": ""
           }
          },
          "scene": {
           "xaxis": {
            "backgroundcolor": "#E5ECF6",
            "gridcolor": "white",
            "gridwidth": 2,
            "linecolor": "white",
            "showbackground": true,
            "ticks": "",
            "zerolinecolor": "white"
           },
           "yaxis": {
            "backgroundcolor": "#E5ECF6",
            "gridcolor": "white",
            "gridwidth": 2,
            "linecolor": "white",
            "showbackground": true,
            "ticks": "",
            "zerolinecolor": "white"
           },
           "zaxis": {
            "backgroundcolor": "#E5ECF6",
            "gridcolor": "white",
            "gridwidth": 2,
            "linecolor": "white",
            "showbackground": true,
            "ticks": "",
            "zerolinecolor": "white"
           }
          },
          "shapedefaults": {
           "line": {
            "color": "#2a3f5f"
           }
          },
          "ternary": {
           "aaxis": {
            "gridcolor": "white",
            "linecolor": "white",
            "ticks": ""
           },
           "baxis": {
            "gridcolor": "white",
            "linecolor": "white",
            "ticks": ""
           },
           "bgcolor": "#E5ECF6",
           "caxis": {
            "gridcolor": "white",
            "linecolor": "white",
            "ticks": ""
           }
          },
          "title": {
           "x": 0.05
          },
          "xaxis": {
           "automargin": true,
           "gridcolor": "white",
           "linecolor": "white",
           "ticks": "",
           "title": {
            "standoff": 15
           },
           "zerolinecolor": "white",
           "zerolinewidth": 2
          },
          "yaxis": {
           "automargin": true,
           "gridcolor": "white",
           "linecolor": "white",
           "ticks": "",
           "title": {
            "standoff": 15
           },
           "zerolinecolor": "white",
           "zerolinewidth": 2
          }
         }
        },
        "title": {
         "text": "2D Cluster PCA Plot"
        },
        "xaxis": {
         "anchor": "y",
         "domain": [
          0,
          1
         ],
         "title": {
          "text": "PCA1"
         }
        },
        "yaxis": {
         "anchor": "x",
         "domain": [
          0,
          1
         ],
         "title": {
          "text": "PCA2"
         }
        }
       }
      },
      "text/html": [
       "<div>                            <div id=\"5b46ea5e-7f72-4742-811e-f3600458544c\" class=\"plotly-graph-div\" style=\"height:600px; width:100%;\"></div>            <script type=\"text/javascript\">                require([\"plotly\"], function(Plotly) {                    window.PLOTLYENV=window.PLOTLYENV || {};                                    if (document.getElementById(\"5b46ea5e-7f72-4742-811e-f3600458544c\")) {                    Plotly.newPlot(                        \"5b46ea5e-7f72-4742-811e-f3600458544c\",                        [{\"customdata\": [[24], [33], [35], [31], [35], [37], [30], [28], [36], [31], [29], [35], [38], [30], [84], [34], [35], [38], [32], [34], [28], [36], [35], [34], [31], [36], [34], [35], [36], [34], [37], [37], [27], [29], [31], [35], [22], [34], [32], [33], [28], [33], [35], [29], [33], [59], [25], [31], [29], [37], [31], [29], [32], [37], [32], [32], [29], [84], [30], [29], [36], [39], [31], [34], [38], [29], [36], [34], [37], [31], [28], [31], [38], [86], [30], [44], [39], [31], [36], [35], [30], [34], [25], [31], [33], [31], [37], [33], [30], [36], [36], [31], [35], [31], [31], [40], [88], [29], [31], [33], [33], [42], [36], [31], [85], [33], [26], [33], [34], [29], [30], [28], [37], [31], [28], [33], [33], [37], [33], [30], [33], [84], [32], [30], [30], [37], [43], [30], [28], [39]], \"hovertemplate\": \"Cluster=Cluster 0<br>PCA1=%{x}<br>PCA2=%{y}<br>Feature=%{customdata[0]}<extra></extra>\", \"legendgroup\": \"Cluster 0\", \"marker\": {\"color\": \"#636efa\", \"opacity\": 0.5, \"symbol\": \"circle\"}, \"mode\": \"markers\", \"name\": \"Cluster 0\", \"orientation\": \"v\", \"showlegend\": true, \"textposition\": \"top center\", \"type\": \"scatter\", \"x\": [34815.2578125, 23896.37109375, 26578.154296875, 28681.548828125, 26003.5234375, 31202.4140625, 33217.92578125, 22236.173828125, 20592.34765625, 39135.37890625, 35036.71875, 31317.298828125, 18943.375, 20486.14453125, 34834.890625, 35572.71875, 30806.77734375, 39399.40234375, 34753.15234375, 23022.21875, 33379.421875, 29861.544921875, 28912.89453125, 28627.259765625, 37228.73828125, 24491.392578125, 26507.04296875, 32691.87109375, 28639.38671875, 23196.216796875, 32289.5390625, 34830.8671875, 31016.95703125, 30268.70703125, 40419.578125, 37194.90234375, 33345.16015625, 31502.357421875, 26343.681640625, 32561.02734375, 23858.603515625, 36008.7265625, 30155.33203125, 26312.376953125, 16918.677734375, 15177.3173828125, 30950.107421875, 23748.677734375, 23392.947265625, 35023.2109375, 29240.513671875, 35711.08203125, 19785.998046875, 32853.0625, 30836.978515625, 26023.5703125, 27412.697265625, 38543.6171875, 32149.927734375, 26228.380859375, 34060.875, 24819.36328125, 31330.34765625, 27758.388671875, 28960.638671875, 36813.765625, 33203.84375, 27456.912109375, 31960.75390625, 29210.5625, 36260.3984375, 26983.05078125, 37939.71875, 39941.23046875, 30614.169921875, 38938.1171875, 23470.849609375, 32322.91015625, 26071.982421875, 34360.48046875, 24294.8125, 14006.0029296875, 25765.79296875, 32307.9375, 25328.076171875, 32416.94140625, 22105.037109375, 30046.486328125, 31911.0, 22350.771484375, 23967.009765625, 30148.6875, 41298.62890625, 25363.921875, 25732.349609375, 23032.681640625, 38847.1640625, 15764.494140625, 32345.7109375, 31045.216796875, 31361.083984375, 31253.470703125, 32210.978515625, 35758.2734375, 35579.19921875, 19295.26953125, 21973.310546875, 22258.611328125, 22393.41796875, 40673.859375, 31614.447265625, 25474.408203125, 32912.89453125, 35187.91015625, 24827.984375, 40849.48046875, 30584.12109375, 30949.634765625, 24613.75390625, 26298.15234375, 38869.6484375, 39513.26953125, 32572.75, 22224.55859375, 32797.64453125, 21900.787109375, 25938.05078125, 25376.697265625, 19017.171875, 24706.1328125], \"xaxis\": \"x\", \"y\": [-5108.28515625, -4653.57568359375, -4542.18359375, -4194.11572265625, -3786.135986328125, -4006.8837890625, -4387.408203125, -4400.0458984375, -4611.59130859375, -4339.70947265625, -6415.70361328125, -6141.7666015625, -6099.9306640625, -4804.20751953125, -5079.5439453125, -4807.6689453125, -5560.2080078125, -5202.09423828125, -4008.59228515625, -4439.1259765625, -4139.05517578125, -4210.49462890625, -5224.5576171875, -3324.81884765625, -4575.541015625, -3378.546630859375, -5484.677734375, -6066.4609375, -3130.952880859375, -5613.71826171875, -3634.343994140625, -5377.232421875, -4865.0078125, -4917.67919921875, -6642.23828125, -4030.4892578125, -6080.3037109375, -5081.20947265625, -3863.009765625, -5658.5322265625, -4858.0009765625, -6111.7099609375, -6491.849609375, -4286.408203125, -2877.197021484375, 4253.671875, -6274.40380859375, -4085.390380859375, -5117.9306640625, -4416.580078125, -5240.71435546875, -4543.484375, -4699.39501953125, -5910.599609375, -4248.41357421875, -7172.337890625, -5970.66357421875, -7198.06689453125, -5508.94921875, -4266.48779296875, -5075.681640625, -6443.12158203125, -5635.16796875, -3524.604736328125, -5439.90576171875, -4615.46533203125, -6552.896484375, -4868.3154296875, -7950.14404296875, -6286.36279296875, -3890.347412109375, -2897.4208984375, -4683.443359375, -5237.498046875, -4762.4384765625, -4443.1728515625, -4720.251953125, -3681.293701171875, -4687.767578125, -5038.8193359375, -3156.177734375, -1775.606689453125, -4647.5185546875, -3401.083984375, -4507.82177734375, -3316.876708984375, -4346.1904296875, -2733.111572265625, -2672.913818359375, -5405.19580078125, -5918.69921875, -3727.644287109375, -6422.06884765625, -6518.88232421875, -4846.28369140625, -5461.18310546875, -8209.6435546875, -2149.154541015625, -2201.722900390625, -4354.88330078125, -4837.59326171875, -4792.82373046875, -5806.3662109375, -4122.474609375, -6195.259765625, -3266.652587890625, -5227.9765625, -5195.9287109375, -5150.7509765625, -5771.83154296875, -3948.416748046875, -4541.1650390625, -4588.66796875, -4164.86083984375, -5088.61181640625, -5591.4345703125, -5198.65576171875, -4397.2001953125, -3288.467041015625, -5023.04296875, -4117.83837890625, -4805.68505859375, -6711.01025390625, -5737.01806640625, -5654.5517578125, -5234.91845703125, -4054.255126953125, -3922.33203125, -4587.0595703125, -6304.29150390625], \"yaxis\": \"y\"}, {\"customdata\": [[88], [85], [95], [89], [82], [87], [89], [84], [87], [91], [91], [87], [86], [94], [88], [90], [89], [86], [85], [87], [86], [89], [88], [87], [86], [88], [90], [92], [84], [91], [81], [84], [91], [91], [82], [88], [94], [86], [94], [82], [79], [90], [83], [88], [87], [85], [89], [84], [91], [91], [85], [92], [87], [84], [89], [91], [90], [91], [83], [93], [83], [88], [86], [89], [93], [91], [91], [83], [87], [90], [83], [83], [83], [92], [86], [84], [91], [91], [94], [87], [88], [85], [87], [94], [92], [88], [88], [83], [89], [90], [84], [90], [93], [87], [91], [87], [83], [84], [87], [92], [87], [87], [82], [91], [97], [92], [91], [90], [90], [84], [84], [88], [86], [84], [90], [83], [91], [86], [89], [88], [87], [85], [82], [89], [79], [88], [89], [90], [88], [85], [85], [85], [91], [92], [88], [85], [92], [87], [89], [94], [84], [87], [84], [88], [94], [88], [85]], \"hovertemplate\": \"Cluster=Cluster 1<br>PCA1=%{x}<br>PCA2=%{y}<br>Feature=%{customdata[0]}<extra></extra>\", \"legendgroup\": \"Cluster 1\", \"marker\": {\"color\": \"#EF553B\", \"opacity\": 0.5, \"symbol\": \"circle\"}, \"mode\": \"markers\", \"name\": \"Cluster 1\", \"orientation\": \"v\", \"showlegend\": true, \"textposition\": \"top center\", \"type\": \"scatter\", \"x\": [-49206.06640625, -54413.14453125, -48754.55078125, -50446.68359375, -43231.46875, -63656.34375, -55368.97265625, -48469.7578125, -51191.171875, -39063.28515625, -63634.71484375, -49952.5625, -43811.46875, -36822.87890625, -42594.23828125, -53514.359375, -49610.671875, -28705.208984375, -47927.75390625, -45504.921875, -46897.28125, -56491.72265625, -53103.84375, -50055.77734375, -56854.2421875, -48459.57421875, -50029.04296875, -53329.08984375, -53484.984375, -49274.4375, -41272.890625, -48254.0078125, -55116.8359375, -58771.328125, -51459.5078125, -57750.75, -48448.18359375, -39916.58984375, -56820.07421875, -42172.0859375, -37510.58203125, -42253.8671875, -48890.15625, -43012.765625, -44821.265625, -46206.7578125, -42432.640625, -48329.37109375, -47000.1640625, -48496.83984375, -46522.9140625, -39882.01953125, -28723.990234375, -37730.765625, -48762.359375, -50504.8203125, -45508.34765625, -46108.55859375, -45148.0546875, -58127.49609375, -57495.81640625, -56178.6640625, -39708.640625, -45316.57421875, -55300.44140625, -51304.41796875, -48867.3359375, -47072.82421875, -52350.12890625, -42485.19140625, -42546.30078125, -52508.29296875, -45053.49609375, -53120.54296875, -48031.59765625, -57516.265625, -49855.35546875, -38870.671875, -51858.953125, -49618.5625, -42334.04296875, -53905.3203125, -49083.98828125, -47366.64453125, -40276.4453125, -44316.38671875, -46888.3984375, -41183.64453125, -51006.62109375, -46621.671875, -55003.11328125, -40392.515625, -55837.890625, -57945.2890625, -44891.72265625, -33223.78515625, -41229.078125, -48086.46875, -45889.15234375, -39730.75390625, -44207.36328125, -52745.26953125, -42152.5, -52957.6171875, -48338.69921875, -56895.33203125, -47591.22265625, -52877.37109375, -38257.0078125, -45243.3359375, -51590.96875, -57888.98046875, -52219.78515625, -39255.47265625, -51240.7890625, -47148.04296875, -45489.1171875, -60035.34765625, -44680.88671875, -47339.9453125, -59885.1796875, -41090.4296875, -51335.69140625, -53680.71484375, -43219.5703125, -58306.890625, -47490.05078125, -42382.6953125, -40724.15234375, -44945.6953125, -47271.41015625, -40907.24609375, -46752.16796875, -42805.16796875, -49640.51171875, -47211.3046875, -42194.79296875, -57176.859375, -41047.37109375, -47975.62890625, -46294.6953125, -45592.66015625, -33685.8203125, -41654.28125, -54957.48828125, -47129.83984375, -49427.5234375], \"xaxis\": \"x\", \"y\": [646.54296875, -1055.9981689453125, -3476.760009765625, -1789.831787109375, -2464.367919921875, -672.1318969726562, -990.608642578125, -975.0125122070312, -2999.051025390625, -2178.95263671875, -958.5382080078125, -1016.3641357421875, -3844.052978515625, -3004.137939453125, -4573.13916015625, -3511.6533203125, -2494.348388671875, -2125.518310546875, 1139.067626953125, -1656.42626953125, -1500.6014404296875, -1529.951416015625, -1838.6663818359375, -458.73370361328125, -1039.88818359375, -623.026123046875, -2907.7998046875, -3704.117919921875, -2964.873291015625, -1819.142822265625, -2039.0543212890625, -3586.39501953125, -3386.63330078125, -1946.4273681640625, -1443.6334228515625, -1546.787841796875, -424.49554443359375, -5860.41015625, -2626.496337890625, -3482.95263671875, -2385.93359375, -2813.411376953125, -3117.04638671875, -2388.39990234375, -809.2490844726562, -3972.440673828125, -2804.3203125, -2106.957763671875, -3258.5947265625, -1255.024169921875, -2395.153564453125, -3145.840087890625, -1283.25048828125, -3447.525146484375, -1902.3062744140625, -2541.10546875, -1716.097900390625, -4704.90283203125, -918.4451293945312, -3329.426025390625, -874.5950927734375, -1450.73388671875, -2812.642822265625, 72.34140014648438, -2379.447265625, -1341.6435546875, -3330.09765625, -3652.14501953125, -1271.8377685546875, -1573.1312255859375, -2323.956298828125, -2003.3819580078125, -3267.85546875, -2373.90966796875, -2520.880859375, -2662.239501953125, -2551.642578125, -4966.63525390625, -1998.315673828125, -1200.5001220703125, -946.4432983398438, 776.7207641601562, -2706.95556640625, -2226.526123046875, -3159.4052734375, -1681.1097412109375, -1747.2857666015625, -2299.179931640625, 1229.6343994140625, -1061.39404296875, -1806.3734130859375, -1918.072998046875, -2913.15283203125, -1690.2255859375, -1059.5113525390625, -4327.6025390625, -559.8898315429688, -3267.666748046875, -3656.862060546875, -3215.313720703125, -1788.596923828125, -3270.25146484375, -3595.4296875, -512.1687622070312, -296.9493408203125, -219.836181640625, -2876.01904296875, -1034.04736328125, -3209.707763671875, -2386.74609375, -1709.682373046875, -2297.412841796875, -361.8238830566406, -2456.06494140625, -337.58404541015625, -948.1720581054688, -857.2371826171875, -2067.7861328125, -3320.241455078125, -2756.212646484375, 968.1814575195312, -2507.470947265625, -2253.326171875, -1523.155029296875, -982.6387939453125, -1498.3084716796875, -1025.6566162109375, -1026.2188720703125, -3403.3564453125, -2663.43798828125, -1422.2650146484375, -2247.725830078125, -4260.67138671875, -2383.926025390625, -2403.45361328125, -497.0298156738281, -2831.24755859375, -500.38336181640625, 163.0077667236328, -2697.482177734375, -3445.143798828125, -1858.742919921875, -2359.982666015625, -1284.278076171875, -1273.0350341796875, -2166.947265625, -3282.499267578125], \"yaxis\": \"y\"}, {\"customdata\": [[67], [59], [58], [59], [59], [56], [67], [65], [58], [57], [60], [57], [66], [61], [59], [65], [65], [56], [64], [59], [58], [58], [63], [60], [60], [61], [61], [59], [67], [61], [59], [56], [61], [55], [57], [61], [51], [55], [63], [58], [58], [62], [60], [62], [68], [59], [63], [58], [62], [58], [62], [66], [57], [66], [63], [64], [62], [62], [60], [65], [60], [63], [56], [60], [58], [62], [56], [59], [65], [62], [59], [66], [64], [62], [61], [56], [62], [60], [62], [59], [64], [58], [56], [59], [62], [59], [54], [61], [55], [53], [55], [61], [59], [59], [56], [61], [61], [63], [60], [61], [55], [53], [61], [64], [62], [55], [58], [57], [59], [58], [59], [64], [58], [57], [63], [57], [58], [63], [62], [59], [67], [58], [58], [57], [66], [64], [59], [59], [59], [59], [68], [58], [61], [61], [57], [57], [55], [64], [64], [56], [63], [60], [61], [53], [56], [61], [59], [60], [58], [58], [55], [56], [62], [56], [61], [59]], \"hovertemplate\": \"Cluster=Cluster 2<br>PCA1=%{x}<br>PCA2=%{y}<br>Feature=%{customdata[0]}<extra></extra>\", \"legendgroup\": \"Cluster 2\", \"marker\": {\"color\": \"#00cc96\", \"opacity\": 0.5, \"symbol\": \"circle\"}, \"mode\": \"markers\", \"name\": \"Cluster 2\", \"orientation\": \"v\", \"showlegend\": true, \"textposition\": \"top center\", \"type\": \"scatter\", \"x\": [3574.8671875, -1709.0052490234375, -6075.72216796875, 5619.1259765625, -2220.634033203125, -1755.364501953125, 5679.9345703125, -4114.6650390625, -4883.71875, -10371.4853515625, -5149.41259765625, 4615.60498046875, 1855.0482177734375, -967.13330078125, 7017.4072265625, -4794.72900390625, -811.2726440429688, 5122.28369140625, -12402.611328125, -7981.74462890625, 2868.676025390625, 4968.765625, 7034.56689453125, -9176.9375, -805.5170288085938, -6214.35400390625, -7827.501953125, -7225.65478515625, -6586.37353515625, -9270.9814453125, -1864.5926513671875, -9823.2900390625, 3607.622314453125, 1547.9140625, -3147.9697265625, -3197.769287109375, -3127.744140625, -10419.6484375, -4661.64208984375, 3333.03759765625, -4588.84326171875, -1424.296142578125, -11770.0947265625, -7431.1669921875, -6270.12890625, -5787.5830078125, -7793.21044921875, 2555.7822265625, -5898.7431640625, -5327.51025390625, -1710.008056640625, -2630.793701171875, 1381.293701171875, -10238.837890625, -2329.615966796875, -3536.623779296875, -11570.0126953125, -12594.1728515625, -3881.27734375, -9447.564453125, -4595.7236328125, 5567.47802734375, 9121.2099609375, 4848.4423828125, 499.4979553222656, -4176.72119140625, -6529.595703125, -7423.92626953125, -9153.990234375, 4864.6845703125, -7249.02685546875, 7325.2548828125, 1198.2158203125, -6945.48779296875, -5628.9814453125, -6874.44384765625, 3175.730712890625, -10072.8740234375, -5806.0751953125, -6051.79638671875, 11039.025390625, -4972.919921875, 11129.4248046875, 6644.59814453125, -611.8908081054688, -879.69482421875, 1270.59423828125, -3354.408203125, -3652.0498046875, 1535.321533203125, 3442.069091796875, 1691.1478271484375, -9514.740234375, -5495.92822265625, -11393.26171875, -1006.7933959960938, -11385.8056640625, 10499.4072265625, -5228.771484375, -2009.7073974609375, -847.2985229492188, -13124.388671875, -6112.7001953125, -14757.6240234375, -5414.4501953125, -4197.99365234375, -907.6675415039062, 4241.77685546875, -2601.8681640625, 1797.87060546875, -860.4337158203125, 13091.3740234375, -4333.3515625, 106.44878387451172, -5414.8486328125, -1148.59130859375, 834.6076049804688, -182.87429809570312, -12401.0107421875, 384.48956298828125, -15876.0126953125, 2392.952392578125, -4856.15869140625, -9604.97265625, -3578.640380859375, 3594.04248046875, -5713.302734375, -7793.4521484375, -18832.318359375, 277.3205871582031, 2456.11474609375, 3385.82275390625, -1867.4996337890625, -4025.533447265625, -5506.5029296875, 1380.9107666015625, -1254.79443359375, 1223.3336181640625, -10817.513671875, 375.6135559082031, -18377.078125, -7740.90380859375, -9600.0068359375, -284.9325256347656, -15159.8974609375, -4335.11962890625, -3902.649169921875, -9955.59765625, 8122.07958984375, 5073.48828125, 871.0576782226562, 3735.2236328125, -8175.94287109375, -7927.27685546875, -3222.02734375, 2663.81494140625], \"xaxis\": \"x\", \"y\": [6638.19189453125, 3684.6962890625, 3500.597412109375, 4314.80517578125, 4177.14111328125, 4273.2060546875, 4711.287109375, 3078.896728515625, 4688.3720703125, 6211.2763671875, 5556.66796875, 5713.44384765625, 5468.74560546875, 4638.72509765625, 5588.80224609375, 5174.4716796875, 4771.51708984375, 3424.073974609375, 4277.4208984375, 3467.56689453125, 5223.64453125, 3943.1181640625, 3374.28759765625, 7146.66455078125, 4348.0966796875, 8154.20458984375, 5701.69970703125, 4564.61865234375, 4795.66064453125, 5996.55126953125, 5267.3544921875, 6862.2490234375, 4852.44580078125, 3973.907470703125, 5506.998046875, 5127.951171875, 5318.28369140625, 5982.8603515625, 4875.4140625, 4012.216064453125, 4468.26904296875, 7267.33056640625, 5001.421875, 6342.0390625, 5401.82373046875, 5711.6298828125, 6334.24462890625, 5164.68310546875, 5205.841796875, 5507.67626953125, 5692.09326171875, 5512.81201171875, 5207.22265625, 7423.31787109375, 6502.2099609375, 5070.4150390625, 6393.5869140625, 5058.59423828125, 3532.751220703125, 6026.373046875, 4575.31591796875, 6399.6826171875, 4076.1904296875, 6716.390625, 4450.5732421875, 5121.94970703125, 5174.06201171875, 5595.4267578125, 6237.45703125, 4834.9560546875, 5030.10302734375, 5245.751953125, 6031.60009765625, 5240.28515625, 3413.462158203125, 3266.470947265625, 4727.08056640625, 7033.83447265625, 5686.1337890625, 6221.685546875, 4384.6884765625, 5053.9765625, 2451.396240234375, 6074.1123046875, 2642.85693359375, 4574.03076171875, 4918.8623046875, 4039.051025390625, 4298.14892578125, 6617.1455078125, 3293.9267578125, 4305.6064453125, 5484.06396484375, 5033.9287109375, 4760.72900390625, 6827.73876953125, 5239.83642578125, 4092.587890625, 4906.82275390625, 4571.31298828125, 5435.2958984375, 5122.2998046875, 7150.26953125, 5008.013671875, 6401.49853515625, 4646.4248046875, 4662.5732421875, 4854.375, 5720.06591796875, 3616.9072265625, 1366.217041015625, 3878.075439453125, 6791.1240234375, 5019.54736328125, 4509.3798828125, 6154.52001953125, 5141.10302734375, 4411.32568359375, 6731.625, 6845.14453125, 7337.46484375, 5992.685546875, 6861.84423828125, 5517.458984375, 4687.3330078125, 5244.2265625, 6098.4091796875, 5788.85595703125, 6823.25537109375, 5152.0791015625, 5539.97998046875, 4513.16015625, 2685.663818359375, 5644.55419921875, 6298.4326171875, 5567.115234375, 6380.91845703125, 5666.36962890625, 6677.48388671875, 5049.607421875, 5086.3759765625, 5133.6416015625, 4923.283203125, 4064.00927734375, 5573.24609375, 2658.2978515625, 5499.34130859375, 4085.313232421875, 4731.0126953125, 5244.4384765625, 5689.00244140625, 4370.46923828125, 5599.27734375, 5673.52978515625, 4129.1826171875, 3399.12060546875], \"yaxis\": \"y\"}, {\"customdata\": [[18], [85], [27], [28], [25], [83], [18], [26], [32], [89], [20], [88], [30], [26], [17], [92], [23], [22], [20], [22], [90], [25], [17], [24], [29], [84], [25], [83], [31], [21], [28], [24], [82], [26], [28], [23], [26], [26], [29], [21], [86], [23], [25], [24], [87], [28], [20], [27], [86], [82], [22], [25], [91], [17], [93], [34], [29], [77], [27], [28], [83], [29], [24], [24], [17], [28], [25], [90], [24], [23], [24], [88]], \"hovertemplate\": \"Cluster=Cluster 3<br>PCA1=%{x}<br>PCA2=%{y}<br>Feature=%{customdata[0]}<extra></extra>\", \"legendgroup\": \"Cluster 3\", \"marker\": {\"color\": \"#ab63fa\", \"opacity\": 0.5, \"symbol\": \"circle\"}, \"mode\": \"markers\", \"name\": \"Cluster 3\", \"orientation\": \"v\", \"showlegend\": true, \"textposition\": \"top center\", \"type\": \"scatter\", \"x\": [48551.89453125, 42414.1328125, 46271.75, 48029.234375, 62912.453125, 43629.01171875, 55587.3515625, 56651.44921875, 41328.25390625, 43861.73828125, 53899.23046875, 44952.8984375, 47549.76171875, 47842.8828125, 59798.171875, 47182.0625, 51395.21875, 57857.27734375, 47415.390625, 58984.546875, 48410.0, 55168.4453125, 59803.04296875, 53976.79296875, 56449.68359375, 46993.6328125, 53422.5546875, 41580.265625, 47836.4453125, 48602.56640625, 52465.02734375, 52263.48828125, 50433.84375, 51532.47265625, 46000.80078125, 63317.06640625, 52086.37890625, 50397.078125, 43600.21484375, 54542.55078125, 52679.125, 54778.9140625, 45728.3984375, 59239.8515625, 41859.1484375, 48281.95703125, 54230.3125, 49923.23046875, 48577.23828125, 45920.30078125, 45302.56640625, 55809.60546875, 43084.421875, 48697.328125, 50874.5859375, 44074.74609375, 47210.609375, 52844.20703125, 47518.8828125, 53924.59375, 42157.796875, 66750.609375, 45280.296875, 61617.25, 61085.15625, 41933.87109375, 55783.42578125, 42045.7890625, 55795.99609375, 45049.7109375, 59196.59765625, 47964.546875], \"xaxis\": \"x\", \"y\": [4668.2158203125, -5432.28515625, 4207.41552734375, 5422.3251953125, 5261.357421875, -6254.84423828125, 3427.1357421875, 4271.2939453125, -4823.64892578125, -6877.04052734375, 3176.74755859375, -4985.517578125, 3437.8974609375, 4758.18994140625, 4315.751953125, -4557.71875, 5657.244140625, 5717.50390625, 4709.3896484375, 3350.71240234375, -5693.66845703125, 4016.982421875, 8450.310546875, 5488.39111328125, 5101.39990234375, -4647.13232421875, 3894.235595703125, -5615.56396484375, 6059.9853515625, 6249.5380859375, 3371.53369140625, 5916.35986328125, -6854.208984375, 6006.7353515625, 3884.45361328125, 4946.1796875, 3388.427978515625, 2890.5517578125, -5657.482421875, 4193.88427734375, -4749.0595703125, 4629.79248046875, 3658.306640625, 4745.14599609375, -4543.3291015625, 8499.9697265625, 3238.429443359375, 6048.7265625, -6305.31103515625, -4953.9248046875, 3778.182373046875, 3879.150146484375, -4660.857421875, 5282.4990234375, -5178.05615234375, -6307.67333984375, 6674.236328125, -5677.6708984375, 4942.0009765625, 5765.84423828125, -5954.4580078125, 2693.008544921875, 4437.357421875, 6726.31591796875, 4243.72216796875, 4717.99853515625, 4732.087890625, -3106.10498046875, 4252.89794921875, 4590.873046875, 3903.975341796875, -4397.1884765625], \"yaxis\": \"y\"}],                        {\"height\": 600, \"legend\": {\"title\": {\"text\": \"Cluster\"}, \"tracegroupgap\": 0}, \"margin\": {\"t\": 60}, \"plot_bgcolor\": \"rgb(240,240,240)\", \"template\": {\"data\": {\"bar\": [{\"error_x\": {\"color\": \"#2a3f5f\"}, \"error_y\": {\"color\": \"#2a3f5f\"}, \"marker\": {\"line\": {\"color\": \"#E5ECF6\", \"width\": 0.5}}, \"type\": \"bar\"}], \"barpolar\": [{\"marker\": {\"line\": {\"color\": \"#E5ECF6\", \"width\": 0.5}}, \"type\": \"barpolar\"}], \"carpet\": [{\"aaxis\": {\"endlinecolor\": \"#2a3f5f\", \"gridcolor\": \"white\", \"linecolor\": \"white\", \"minorgridcolor\": \"white\", \"startlinecolor\": \"#2a3f5f\"}, \"baxis\": {\"endlinecolor\": \"#2a3f5f\", \"gridcolor\": \"white\", \"linecolor\": \"white\", \"minorgridcolor\": \"white\", \"startlinecolor\": \"#2a3f5f\"}, \"type\": \"carpet\"}], \"choropleth\": [{\"colorbar\": {\"outlinewidth\": 0, \"ticks\": \"\"}, \"type\": \"choropleth\"}], \"contour\": [{\"colorbar\": {\"outlinewidth\": 0, \"ticks\": \"\"}, \"colorscale\": [[0.0, \"#0d0887\"], [0.1111111111111111, \"#46039f\"], [0.2222222222222222, \"#7201a8\"], [0.3333333333333333, \"#9c179e\"], [0.4444444444444444, \"#bd3786\"], [0.5555555555555556, \"#d8576b\"], [0.6666666666666666, \"#ed7953\"], [0.7777777777777778, \"#fb9f3a\"], [0.8888888888888888, \"#fdca26\"], [1.0, \"#f0f921\"]], \"type\": \"contour\"}], \"contourcarpet\": [{\"colorbar\": {\"outlinewidth\": 0, \"ticks\": \"\"}, \"type\": \"contourcarpet\"}], \"heatmap\": [{\"colorbar\": {\"outlinewidth\": 0, \"ticks\": \"\"}, \"colorscale\": [[0.0, \"#0d0887\"], [0.1111111111111111, \"#46039f\"], [0.2222222222222222, \"#7201a8\"], [0.3333333333333333, \"#9c179e\"], [0.4444444444444444, \"#bd3786\"], [0.5555555555555556, \"#d8576b\"], [0.6666666666666666, \"#ed7953\"], [0.7777777777777778, \"#fb9f3a\"], [0.8888888888888888, \"#fdca26\"], [1.0, \"#f0f921\"]], \"type\": \"heatmap\"}], \"heatmapgl\": [{\"colorbar\": {\"outlinewidth\": 0, \"ticks\": \"\"}, \"colorscale\": [[0.0, \"#0d0887\"], [0.1111111111111111, \"#46039f\"], [0.2222222222222222, \"#7201a8\"], [0.3333333333333333, \"#9c179e\"], [0.4444444444444444, \"#bd3786\"], [0.5555555555555556, \"#d8576b\"], [0.6666666666666666, \"#ed7953\"], [0.7777777777777778, \"#fb9f3a\"], [0.8888888888888888, \"#fdca26\"], [1.0, \"#f0f921\"]], \"type\": \"heatmapgl\"}], \"histogram\": [{\"marker\": {\"colorbar\": {\"outlinewidth\": 0, \"ticks\": \"\"}}, \"type\": \"histogram\"}], \"histogram2d\": [{\"colorbar\": {\"outlinewidth\": 0, \"ticks\": \"\"}, \"colorscale\": [[0.0, \"#0d0887\"], [0.1111111111111111, \"#46039f\"], [0.2222222222222222, \"#7201a8\"], [0.3333333333333333, \"#9c179e\"], [0.4444444444444444, \"#bd3786\"], [0.5555555555555556, \"#d8576b\"], [0.6666666666666666, \"#ed7953\"], [0.7777777777777778, \"#fb9f3a\"], [0.8888888888888888, \"#fdca26\"], [1.0, \"#f0f921\"]], \"type\": \"histogram2d\"}], \"histogram2dcontour\": [{\"colorbar\": {\"outlinewidth\": 0, \"ticks\": \"\"}, \"colorscale\": [[0.0, \"#0d0887\"], [0.1111111111111111, \"#46039f\"], [0.2222222222222222, \"#7201a8\"], [0.3333333333333333, \"#9c179e\"], [0.4444444444444444, \"#bd3786\"], [0.5555555555555556, \"#d8576b\"], [0.6666666666666666, \"#ed7953\"], [0.7777777777777778, \"#fb9f3a\"], [0.8888888888888888, \"#fdca26\"], [1.0, \"#f0f921\"]], \"type\": \"histogram2dcontour\"}], \"mesh3d\": [{\"colorbar\": {\"outlinewidth\": 0, \"ticks\": \"\"}, \"type\": \"mesh3d\"}], \"parcoords\": [{\"line\": {\"colorbar\": {\"outlinewidth\": 0, \"ticks\": \"\"}}, \"type\": \"parcoords\"}], \"pie\": [{\"automargin\": true, \"type\": \"pie\"}], \"scatter\": [{\"marker\": {\"colorbar\": {\"outlinewidth\": 0, \"ticks\": \"\"}}, \"type\": \"scatter\"}], \"scatter3d\": [{\"line\": {\"colorbar\": {\"outlinewidth\": 0, \"ticks\": \"\"}}, \"marker\": {\"colorbar\": {\"outlinewidth\": 0, \"ticks\": \"\"}}, \"type\": \"scatter3d\"}], \"scattercarpet\": [{\"marker\": {\"colorbar\": {\"outlinewidth\": 0, \"ticks\": \"\"}}, \"type\": \"scattercarpet\"}], \"scattergeo\": [{\"marker\": {\"colorbar\": {\"outlinewidth\": 0, \"ticks\": \"\"}}, \"type\": \"scattergeo\"}], \"scattergl\": [{\"marker\": {\"colorbar\": {\"outlinewidth\": 0, \"ticks\": \"\"}}, \"type\": \"scattergl\"}], \"scattermapbox\": [{\"marker\": {\"colorbar\": {\"outlinewidth\": 0, \"ticks\": \"\"}}, \"type\": \"scattermapbox\"}], \"scatterpolar\": [{\"marker\": {\"colorbar\": {\"outlinewidth\": 0, \"ticks\": \"\"}}, \"type\": \"scatterpolar\"}], \"scatterpolargl\": [{\"marker\": {\"colorbar\": {\"outlinewidth\": 0, \"ticks\": \"\"}}, \"type\": \"scatterpolargl\"}], \"scatterternary\": [{\"marker\": {\"colorbar\": {\"outlinewidth\": 0, \"ticks\": \"\"}}, \"type\": \"scatterternary\"}], \"surface\": [{\"colorbar\": {\"outlinewidth\": 0, \"ticks\": \"\"}, \"colorscale\": [[0.0, \"#0d0887\"], [0.1111111111111111, \"#46039f\"], [0.2222222222222222, \"#7201a8\"], [0.3333333333333333, \"#9c179e\"], [0.4444444444444444, \"#bd3786\"], [0.5555555555555556, \"#d8576b\"], [0.6666666666666666, \"#ed7953\"], [0.7777777777777778, \"#fb9f3a\"], [0.8888888888888888, \"#fdca26\"], [1.0, \"#f0f921\"]], \"type\": \"surface\"}], \"table\": [{\"cells\": {\"fill\": {\"color\": \"#EBF0F8\"}, \"line\": {\"color\": \"white\"}}, \"header\": {\"fill\": {\"color\": \"#C8D4E3\"}, \"line\": {\"color\": \"white\"}}, \"type\": \"table\"}]}, \"layout\": {\"annotationdefaults\": {\"arrowcolor\": \"#2a3f5f\", \"arrowhead\": 0, \"arrowwidth\": 1}, \"autotypenumbers\": \"strict\", \"coloraxis\": {\"colorbar\": {\"outlinewidth\": 0, \"ticks\": \"\"}}, \"colorscale\": {\"diverging\": [[0, \"#8e0152\"], [0.1, \"#c51b7d\"], [0.2, \"#de77ae\"], [0.3, \"#f1b6da\"], [0.4, \"#fde0ef\"], [0.5, \"#f7f7f7\"], [0.6, \"#e6f5d0\"], [0.7, \"#b8e186\"], [0.8, \"#7fbc41\"], [0.9, \"#4d9221\"], [1, \"#276419\"]], \"sequential\": [[0.0, \"#0d0887\"], [0.1111111111111111, \"#46039f\"], [0.2222222222222222, \"#7201a8\"], [0.3333333333333333, \"#9c179e\"], [0.4444444444444444, \"#bd3786\"], [0.5555555555555556, \"#d8576b\"], [0.6666666666666666, \"#ed7953\"], [0.7777777777777778, \"#fb9f3a\"], [0.8888888888888888, \"#fdca26\"], [1.0, \"#f0f921\"]], \"sequentialminus\": [[0.0, \"#0d0887\"], [0.1111111111111111, \"#46039f\"], [0.2222222222222222, \"#7201a8\"], [0.3333333333333333, \"#9c179e\"], [0.4444444444444444, \"#bd3786\"], [0.5555555555555556, \"#d8576b\"], [0.6666666666666666, \"#ed7953\"], [0.7777777777777778, \"#fb9f3a\"], [0.8888888888888888, \"#fdca26\"], [1.0, \"#f0f921\"]]}, \"colorway\": [\"#636efa\", \"#EF553B\", \"#00cc96\", \"#ab63fa\", \"#FFA15A\", \"#19d3f3\", \"#FF6692\", \"#B6E880\", \"#FF97FF\", \"#FECB52\"], \"font\": {\"color\": \"#2a3f5f\"}, \"geo\": {\"bgcolor\": \"white\", \"lakecolor\": \"white\", \"landcolor\": \"#E5ECF6\", \"showlakes\": true, \"showland\": true, \"subunitcolor\": \"white\"}, \"hoverlabel\": {\"align\": \"left\"}, \"hovermode\": \"closest\", \"mapbox\": {\"style\": \"light\"}, \"paper_bgcolor\": \"white\", \"plot_bgcolor\": \"#E5ECF6\", \"polar\": {\"angularaxis\": {\"gridcolor\": \"white\", \"linecolor\": \"white\", \"ticks\": \"\"}, \"bgcolor\": \"#E5ECF6\", \"radialaxis\": {\"gridcolor\": \"white\", \"linecolor\": \"white\", \"ticks\": \"\"}}, \"scene\": {\"xaxis\": {\"backgroundcolor\": \"#E5ECF6\", \"gridcolor\": \"white\", \"gridwidth\": 2, \"linecolor\": \"white\", \"showbackground\": true, \"ticks\": \"\", \"zerolinecolor\": \"white\"}, \"yaxis\": {\"backgroundcolor\": \"#E5ECF6\", \"gridcolor\": \"white\", \"gridwidth\": 2, \"linecolor\": \"white\", \"showbackground\": true, \"ticks\": \"\", \"zerolinecolor\": \"white\"}, \"zaxis\": {\"backgroundcolor\": \"#E5ECF6\", \"gridcolor\": \"white\", \"gridwidth\": 2, \"linecolor\": \"white\", \"showbackground\": true, \"ticks\": \"\", \"zerolinecolor\": \"white\"}}, \"shapedefaults\": {\"line\": {\"color\": \"#2a3f5f\"}}, \"ternary\": {\"aaxis\": {\"gridcolor\": \"white\", \"linecolor\": \"white\", \"ticks\": \"\"}, \"baxis\": {\"gridcolor\": \"white\", \"linecolor\": \"white\", \"ticks\": \"\"}, \"bgcolor\": \"#E5ECF6\", \"caxis\": {\"gridcolor\": \"white\", \"linecolor\": \"white\", \"ticks\": \"\"}}, \"title\": {\"x\": 0.05}, \"xaxis\": {\"automargin\": true, \"gridcolor\": \"white\", \"linecolor\": \"white\", \"ticks\": \"\", \"title\": {\"standoff\": 15}, \"zerolinecolor\": \"white\", \"zerolinewidth\": 2}, \"yaxis\": {\"automargin\": true, \"gridcolor\": \"white\", \"linecolor\": \"white\", \"ticks\": \"\", \"title\": {\"standoff\": 15}, \"zerolinecolor\": \"white\", \"zerolinewidth\": 2}}}, \"title\": {\"text\": \"2D Cluster PCA Plot\"}, \"xaxis\": {\"anchor\": \"y\", \"domain\": [0.0, 1.0], \"title\": {\"text\": \"PCA1\"}}, \"yaxis\": {\"anchor\": \"x\", \"domain\": [0.0, 1.0], \"title\": {\"text\": \"PCA2\"}}},                        {\"responsive\": true}                    ).then(function(){\n",
       "                            \n",
       "var gd = document.getElementById('5b46ea5e-7f72-4742-811e-f3600458544c');\n",
       "var x = new MutationObserver(function (mutations, observer) {{\n",
       "        var display = window.getComputedStyle(gd).display;\n",
       "        if (!display || display === 'none') {{\n",
       "            console.log([gd, 'removed!']);\n",
       "            Plotly.purge(gd);\n",
       "            observer.disconnect();\n",
       "        }}\n",
       "}});\n",
       "\n",
       "// Listen for the removal of the full notebook cells\n",
       "var notebookContainer = gd.closest('#notebook-container');\n",
       "if (notebookContainer) {{\n",
       "    x.observe(notebookContainer, {childList: true});\n",
       "}}\n",
       "\n",
       "// Listen for the clearing of the current output cell\n",
       "var outputEl = gd.closest('.output');\n",
       "if (outputEl) {{\n",
       "    x.observe(outputEl, {childList: true});\n",
       "}}\n",
       "\n",
       "                        })                };                });            </script>        </div>"
      ]
     },
     "metadata": {},
     "output_type": "display_data"
    }
   ],
   "source": [
    "plot_model(kmeans)"
   ]
  },
  {
   "cell_type": "code",
   "execution_count": null,
   "metadata": {},
   "outputs": [],
   "source": []
  }
 ],
 "metadata": {
  "kernelspec": {
   "display_name": "Python 3",
   "language": "python",
   "name": "python3"
  },
  "language_info": {
   "codemirror_mode": {
    "name": "ipython",
    "version": 3
   },
   "file_extension": ".py",
   "mimetype": "text/x-python",
   "name": "python",
   "nbconvert_exporter": "python",
   "pygments_lexer": "ipython3",
   "version": "3.8.5"
  }
 },
 "nbformat": 4,
 "nbformat_minor": 4
}
